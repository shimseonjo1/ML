{
 "cells": [
  {
   "cell_type": "code",
   "execution_count": 13,
   "id": "20fe4759-f01e-4cca-aa02-a756db27d90e",
   "metadata": {},
   "outputs": [],
   "source": [
    "import pandas as pd\n",
    "from sklearn.ensemble import VotingClassifier\n",
    "from sklearn.linear_model import LogisticRegression\n",
    "from sklearn.neighbors import KNeighborsClassifier\n",
    "from sklearn.datasets import load_breast_cancer\n",
    "from sklearn.model_selection import train_test_split\n",
    "from sklearn.metrics import accuracy_score\n",
    "import warnings\n",
    "warnings.filterwarnings('ignore')"
   ]
  },
  {
   "cell_type": "code",
   "execution_count": 22,
   "id": "afa147cb-5bbc-4361-8db6-1ecb4e25a049",
   "metadata": {},
   "outputs": [
    {
     "data": {
      "text/plain": [
       "dict_keys(['data', 'target', 'frame', 'target_names', 'DESCR', 'feature_names', 'filename'])"
      ]
     },
     "execution_count": 22,
     "metadata": {},
     "output_type": "execute_result"
    }
   ],
   "source": [
    "cancer = load_breast_cancer()\n",
    "cancer.keys()"
   ]
  },
  {
   "cell_type": "code",
   "execution_count": 23,
   "id": "a8a863db-d73d-4bcd-bc6f-26e450443502",
   "metadata": {
    "tags": []
   },
   "outputs": [
    {
     "data": {
      "text/plain": [
       "array([0, 0, 0, 0, 0, 0, 0, 0, 0, 0, 0, 0, 0, 0, 0, 0, 0, 0, 0, 1, 1, 1,\n",
       "       0, 0, 0, 0, 0, 0, 0, 0, 0, 0, 0, 0, 0, 0, 0, 1, 0, 0, 0, 0, 0, 0,\n",
       "       0, 0, 1, 0, 1, 1, 1, 1, 1, 0, 0, 1, 0, 0, 1, 1, 1, 1, 0, 1, 0, 0,\n",
       "       1, 1, 1, 1, 0, 1, 0, 0, 1, 0, 1, 0, 0, 1, 1, 1, 0, 0, 1, 0, 0, 0,\n",
       "       1, 1, 1, 0, 1, 1, 0, 0, 1, 1, 1, 0, 0, 1, 1, 1, 1, 0, 1, 1, 0, 1,\n",
       "       1, 1, 1, 1, 1, 1, 1, 0, 0, 0, 1, 0, 0, 1, 1, 1, 0, 0, 1, 0, 1, 0,\n",
       "       0, 1, 0, 0, 1, 1, 0, 1, 1, 0, 1, 1, 1, 1, 0, 1, 1, 1, 1, 1, 1, 1,\n",
       "       1, 1, 0, 1, 1, 1, 1, 0, 0, 1, 0, 1, 1, 0, 0, 1, 1, 0, 0, 1, 1, 1,\n",
       "       1, 0, 1, 1, 0, 0, 0, 1, 0, 1, 0, 1, 1, 1, 0, 1, 1, 0, 0, 1, 0, 0,\n",
       "       0, 0, 1, 0, 0, 0, 1, 0, 1, 0, 1, 1, 0, 1, 0, 0, 0, 0, 1, 1, 0, 0,\n",
       "       1, 1, 1, 0, 1, 1, 1, 1, 1, 0, 0, 1, 1, 0, 1, 1, 0, 0, 1, 0, 1, 1,\n",
       "       1, 1, 0, 1, 1, 1, 1, 1, 0, 1, 0, 0, 0, 0, 0, 0, 0, 0, 0, 0, 0, 0,\n",
       "       0, 0, 1, 1, 1, 1, 1, 1, 0, 1, 0, 1, 1, 0, 1, 1, 0, 1, 0, 0, 1, 1,\n",
       "       1, 1, 1, 1, 1, 1, 1, 1, 1, 1, 1, 0, 1, 1, 0, 1, 0, 1, 1, 1, 1, 1,\n",
       "       1, 1, 1, 1, 1, 1, 1, 1, 1, 0, 1, 1, 1, 0, 1, 0, 1, 1, 1, 1, 0, 0,\n",
       "       0, 1, 1, 1, 1, 0, 1, 0, 1, 0, 1, 1, 1, 0, 1, 1, 1, 1, 1, 1, 1, 0,\n",
       "       0, 0, 1, 1, 1, 1, 1, 1, 1, 1, 1, 1, 1, 0, 0, 1, 0, 0, 0, 1, 0, 0,\n",
       "       1, 1, 1, 1, 1, 0, 1, 1, 1, 1, 1, 0, 1, 1, 1, 0, 1, 1, 0, 0, 1, 1,\n",
       "       1, 1, 1, 1, 0, 1, 1, 1, 1, 1, 1, 1, 0, 1, 1, 1, 1, 1, 0, 1, 1, 0,\n",
       "       1, 1, 1, 1, 1, 1, 1, 1, 1, 1, 1, 1, 0, 1, 0, 0, 1, 0, 1, 1, 1, 1,\n",
       "       1, 0, 1, 1, 0, 1, 0, 1, 1, 0, 1, 0, 1, 1, 1, 1, 1, 1, 1, 1, 0, 0,\n",
       "       1, 1, 1, 1, 1, 1, 0, 1, 1, 1, 1, 1, 1, 1, 1, 1, 1, 0, 1, 1, 1, 1,\n",
       "       1, 1, 1, 0, 1, 0, 1, 1, 0, 1, 1, 1, 1, 1, 0, 0, 1, 0, 1, 0, 1, 1,\n",
       "       1, 1, 1, 0, 1, 1, 0, 1, 0, 1, 0, 0, 1, 1, 1, 0, 1, 1, 1, 1, 1, 1,\n",
       "       1, 1, 1, 1, 1, 0, 1, 0, 0, 1, 1, 1, 1, 1, 1, 1, 1, 1, 1, 1, 1, 1,\n",
       "       1, 1, 1, 1, 1, 1, 1, 1, 1, 1, 1, 1, 0, 0, 0, 0, 0, 0, 1])"
      ]
     },
     "execution_count": 23,
     "metadata": {},
     "output_type": "execute_result"
    }
   ],
   "source": [
    "cancer.target"
   ]
  },
  {
   "cell_type": "code",
   "execution_count": 24,
   "id": "b203b61d-548b-44b4-a89f-921301e79091",
   "metadata": {},
   "outputs": [
    {
     "data": {
      "text/plain": [
       "array(['malignant', 'benign'], dtype='<U9')"
      ]
     },
     "execution_count": 24,
     "metadata": {},
     "output_type": "execute_result"
    }
   ],
   "source": [
    "cancer.target_names"
   ]
  },
  {
   "cell_type": "code",
   "execution_count": 25,
   "id": "539b3bff-ad54-4030-b928-c78e15e034f9",
   "metadata": {},
   "outputs": [
    {
     "data": {
      "text/html": [
       "<div>\n",
       "<style scoped>\n",
       "    .dataframe tbody tr th:only-of-type {\n",
       "        vertical-align: middle;\n",
       "    }\n",
       "\n",
       "    .dataframe tbody tr th {\n",
       "        vertical-align: top;\n",
       "    }\n",
       "\n",
       "    .dataframe thead th {\n",
       "        text-align: right;\n",
       "    }\n",
       "</style>\n",
       "<table border=\"1\" class=\"dataframe\">\n",
       "  <thead>\n",
       "    <tr style=\"text-align: right;\">\n",
       "      <th></th>\n",
       "      <th>mean radius</th>\n",
       "      <th>mean texture</th>\n",
       "      <th>mean perimeter</th>\n",
       "      <th>mean area</th>\n",
       "      <th>mean smoothness</th>\n",
       "      <th>mean compactness</th>\n",
       "      <th>mean concavity</th>\n",
       "      <th>mean concave points</th>\n",
       "      <th>mean symmetry</th>\n",
       "      <th>mean fractal dimension</th>\n",
       "      <th>...</th>\n",
       "      <th>worst radius</th>\n",
       "      <th>worst texture</th>\n",
       "      <th>worst perimeter</th>\n",
       "      <th>worst area</th>\n",
       "      <th>worst smoothness</th>\n",
       "      <th>worst compactness</th>\n",
       "      <th>worst concavity</th>\n",
       "      <th>worst concave points</th>\n",
       "      <th>worst symmetry</th>\n",
       "      <th>worst fractal dimension</th>\n",
       "    </tr>\n",
       "  </thead>\n",
       "  <tbody>\n",
       "    <tr>\n",
       "      <th>0</th>\n",
       "      <td>17.99</td>\n",
       "      <td>10.38</td>\n",
       "      <td>122.8</td>\n",
       "      <td>1001.0</td>\n",
       "      <td>0.11840</td>\n",
       "      <td>0.27760</td>\n",
       "      <td>0.3001</td>\n",
       "      <td>0.14710</td>\n",
       "      <td>0.2419</td>\n",
       "      <td>0.07871</td>\n",
       "      <td>...</td>\n",
       "      <td>25.38</td>\n",
       "      <td>17.33</td>\n",
       "      <td>184.6</td>\n",
       "      <td>2019.0</td>\n",
       "      <td>0.1622</td>\n",
       "      <td>0.6656</td>\n",
       "      <td>0.7119</td>\n",
       "      <td>0.2654</td>\n",
       "      <td>0.4601</td>\n",
       "      <td>0.11890</td>\n",
       "    </tr>\n",
       "    <tr>\n",
       "      <th>1</th>\n",
       "      <td>20.57</td>\n",
       "      <td>17.77</td>\n",
       "      <td>132.9</td>\n",
       "      <td>1326.0</td>\n",
       "      <td>0.08474</td>\n",
       "      <td>0.07864</td>\n",
       "      <td>0.0869</td>\n",
       "      <td>0.07017</td>\n",
       "      <td>0.1812</td>\n",
       "      <td>0.05667</td>\n",
       "      <td>...</td>\n",
       "      <td>24.99</td>\n",
       "      <td>23.41</td>\n",
       "      <td>158.8</td>\n",
       "      <td>1956.0</td>\n",
       "      <td>0.1238</td>\n",
       "      <td>0.1866</td>\n",
       "      <td>0.2416</td>\n",
       "      <td>0.1860</td>\n",
       "      <td>0.2750</td>\n",
       "      <td>0.08902</td>\n",
       "    </tr>\n",
       "  </tbody>\n",
       "</table>\n",
       "<p>2 rows × 30 columns</p>\n",
       "</div>"
      ],
      "text/plain": [
       "   mean radius  mean texture  mean perimeter  mean area  mean smoothness  \\\n",
       "0        17.99         10.38           122.8     1001.0          0.11840   \n",
       "1        20.57         17.77           132.9     1326.0          0.08474   \n",
       "\n",
       "   mean compactness  mean concavity  mean concave points  mean symmetry  \\\n",
       "0           0.27760          0.3001              0.14710         0.2419   \n",
       "1           0.07864          0.0869              0.07017         0.1812   \n",
       "\n",
       "   mean fractal dimension  ...  worst radius  worst texture  worst perimeter  \\\n",
       "0                 0.07871  ...         25.38          17.33            184.6   \n",
       "1                 0.05667  ...         24.99          23.41            158.8   \n",
       "\n",
       "   worst area  worst smoothness  worst compactness  worst concavity  \\\n",
       "0      2019.0            0.1622             0.6656           0.7119   \n",
       "1      1956.0            0.1238             0.1866           0.2416   \n",
       "\n",
       "   worst concave points  worst symmetry  worst fractal dimension  \n",
       "0                0.2654          0.4601                  0.11890  \n",
       "1                0.1860          0.2750                  0.08902  \n",
       "\n",
       "[2 rows x 30 columns]"
      ]
     },
     "execution_count": 25,
     "metadata": {},
     "output_type": "execute_result"
    }
   ],
   "source": [
    "data_df = pd.DataFrame(cancer.data,columns=cancer.feature_names)\n",
    "data_df.head(2)"
   ]
  },
  {
   "cell_type": "code",
   "execution_count": 26,
   "id": "aa853c6f-5507-4d9c-bf95-12df22afe6dc",
   "metadata": {
    "tags": []
   },
   "outputs": [
    {
     "name": "stdout",
     "output_type": "stream",
     "text": [
      "<class 'pandas.core.frame.DataFrame'>\n",
      "RangeIndex: 569 entries, 0 to 568\n",
      "Data columns (total 30 columns):\n",
      " #   Column                   Non-Null Count  Dtype  \n",
      "---  ------                   --------------  -----  \n",
      " 0   mean radius              569 non-null    float64\n",
      " 1   mean texture             569 non-null    float64\n",
      " 2   mean perimeter           569 non-null    float64\n",
      " 3   mean area                569 non-null    float64\n",
      " 4   mean smoothness          569 non-null    float64\n",
      " 5   mean compactness         569 non-null    float64\n",
      " 6   mean concavity           569 non-null    float64\n",
      " 7   mean concave points      569 non-null    float64\n",
      " 8   mean symmetry            569 non-null    float64\n",
      " 9   mean fractal dimension   569 non-null    float64\n",
      " 10  radius error             569 non-null    float64\n",
      " 11  texture error            569 non-null    float64\n",
      " 12  perimeter error          569 non-null    float64\n",
      " 13  area error               569 non-null    float64\n",
      " 14  smoothness error         569 non-null    float64\n",
      " 15  compactness error        569 non-null    float64\n",
      " 16  concavity error          569 non-null    float64\n",
      " 17  concave points error     569 non-null    float64\n",
      " 18  symmetry error           569 non-null    float64\n",
      " 19  fractal dimension error  569 non-null    float64\n",
      " 20  worst radius             569 non-null    float64\n",
      " 21  worst texture            569 non-null    float64\n",
      " 22  worst perimeter          569 non-null    float64\n",
      " 23  worst area               569 non-null    float64\n",
      " 24  worst smoothness         569 non-null    float64\n",
      " 25  worst compactness        569 non-null    float64\n",
      " 26  worst concavity          569 non-null    float64\n",
      " 27  worst concave points     569 non-null    float64\n",
      " 28  worst symmetry           569 non-null    float64\n",
      " 29  worst fractal dimension  569 non-null    float64\n",
      "dtypes: float64(30)\n",
      "memory usage: 133.5 KB\n"
     ]
    }
   ],
   "source": [
    "data_df.info()"
   ]
  },
  {
   "cell_type": "code",
   "execution_count": 27,
   "id": "b2798af4-869d-444e-912a-52e862e370ec",
   "metadata": {},
   "outputs": [],
   "source": [
    "lr_clf = LogisticRegression()"
   ]
  },
  {
   "cell_type": "code",
   "execution_count": 28,
   "id": "2eb568e0-4fda-4b4f-a395-39b28627ac46",
   "metadata": {},
   "outputs": [],
   "source": [
    "knn_clf = KNeighborsClassifier(n_neighbors=8)"
   ]
  },
  {
   "cell_type": "code",
   "execution_count": 29,
   "id": "0f9ced81-318c-4dda-9301-2f667f572115",
   "metadata": {},
   "outputs": [],
   "source": [
    "vo_clf = VotingClassifier([('LR',lr_clf),('KNN',knn_clf)],voting='soft')"
   ]
  },
  {
   "cell_type": "code",
   "execution_count": 30,
   "id": "6bbc052b-af7d-4f64-b77c-2c31b10883f4",
   "metadata": {},
   "outputs": [],
   "source": [
    "X_train,X_test,y_train,y_test = train_test_split(cancer.data,\n",
    "                                                 cancer.target,\n",
    "                                                 test_size=0.2,\n",
    "                                                 random_state=156)"
   ]
  },
  {
   "cell_type": "code",
   "execution_count": 31,
   "id": "42c922be-f964-4145-bf2f-e1eeac35e244",
   "metadata": {},
   "outputs": [
    {
     "data": {
      "text/plain": [
       "0.9473684210526315"
      ]
     },
     "execution_count": 31,
     "metadata": {},
     "output_type": "execute_result"
    }
   ],
   "source": [
    "vo_clf.fit(X_train,y_train)\n",
    "pred = vo_clf.predict(X_test)\n",
    "accuracy_score(y_test,pred)"
   ]
  },
  {
   "cell_type": "code",
   "execution_count": 32,
   "id": "9ede6169-3192-43e5-ba4c-cf2cdb2c797f",
   "metadata": {},
   "outputs": [
    {
     "name": "stdout",
     "output_type": "stream",
     "text": [
      "LogisticRegression정확도 : 0.9386\n",
      "KNeighborsClassifier정확도 : 0.9386\n"
     ]
    }
   ],
   "source": [
    "classifiers=[lr_clf,knn_clf]\n",
    "for classifier in classifiers:\n",
    "    classifier.fit(X_train,y_train)\n",
    "    pred = classifier.predict(X_test)\n",
    "    print(f'{classifier.__class__.__name__}정확도 : {accuracy_score(y_test,pred):.4f}')"
   ]
  },
  {
   "cell_type": "code",
   "execution_count": 33,
   "id": "07963c5b-3a2c-45b7-8f57-1d83a0d9adfc",
   "metadata": {},
   "outputs": [
    {
     "data": {
      "text/plain": [
       "0.956140350877193"
      ]
     },
     "execution_count": 33,
     "metadata": {},
     "output_type": "execute_result"
    }
   ],
   "source": [
    "rf_clf = RandomForestClassifier(random_state=0)\n",
    "rf_clf.fit(X_train,y_train)\n",
    "pred = rf_clf.predict(X_test)\n",
    "accuracy_score(y_test,pred)"
   ]
  },
  {
   "cell_type": "code",
   "execution_count": 34,
   "id": "00257088-86be-4ab8-a7fd-c362bbad74d8",
   "metadata": {},
   "outputs": [],
   "source": [
    "from sklearn.ensemble import RandomForestClassifier"
   ]
  },
  {
   "cell_type": "code",
   "execution_count": 35,
   "id": "0392c3f8-13ff-4a11-ab08-65bad4cde541",
   "metadata": {},
   "outputs": [],
   "source": [
    "def get_new_feature_name_df(old):\n",
    "    feature_dup_df = pd.DataFrame(data=old.groupby('column_name').cumcount(),\n",
    "                                  columns=['dup_cnt'])\n",
    "    feature_dup_df = feature_dup_df.reset_index()\n",
    "    new_feature_name_df = pd.merge(old.reset_index(),feature_dup_df,how='outer')\n",
    "    new_feature_name_df['column_name']=new_feature_name_df[['column_name','dup_cnt']].apply(lambda x:x[0]+'_'+str(x[1]) if x[1] > 0 else x[0] , axis=1)\n",
    "    new_feature_name_df = new_feature_name_df.drop(columns=['index'])\n",
    "    return new_feature_name_df\n",
    "\n",
    "def get_human_dataset():\n",
    "    feature_name_df = pd.read_csv('human_activity/features.txt',\n",
    "                              sep='\\s+',\n",
    "                              header=None,\n",
    "                              names=['column_index','column_name'])\n",
    "    new_feature_name_df = get_new_feature_name_df(feature_name_df)\n",
    "    feature_name = new_feature_name_df.iloc[:,1].values.tolist()\n",
    "    X_train = pd.read_csv('human_activity/train/X_train.txt',sep='\\s+',names=feature_name)\n",
    "    X_test = pd.read_csv('human_activity/test/X_test.txt',sep='\\s+',names=feature_name)\n",
    "    y_train = pd.read_csv('human_activity/train/y_train.txt',sep='\\s+',header=None,names=['action'])\n",
    "    y_test = pd.read_csv('human_activity/test/y_test.txt',sep='\\s+',header=None,names=['action'])\n",
    "    return X_train,X_test,y_train,y_test"
   ]
  },
  {
   "cell_type": "code",
   "execution_count": 36,
   "id": "a55f0034-fc80-4322-9f20-90fb4973b022",
   "metadata": {},
   "outputs": [],
   "source": [
    "X_train,X_test,y_train,y_test = get_human_dataset()"
   ]
  },
  {
   "cell_type": "code",
   "execution_count": 37,
   "id": "e11f2dff-375f-495b-a2dd-24d4cc6243f2",
   "metadata": {},
   "outputs": [
    {
     "data": {
      "text/plain": [
       "0.9253478113335596"
      ]
     },
     "execution_count": 37,
     "metadata": {},
     "output_type": "execute_result"
    }
   ],
   "source": [
    "rf_clf = RandomForestClassifier(random_state=0)\n",
    "rf_clf.fit(X_train,y_train)\n",
    "pred = rf_clf.predict(X_test)\n",
    "accuracy_score(y_test,pred)"
   ]
  },
  {
   "cell_type": "code",
   "execution_count": 38,
   "id": "bb26c23d-5011-475f-bf40-2644346cf5c2",
   "metadata": {},
   "outputs": [
    {
     "data": {
      "text/plain": [
       "0.9545300305395318"
      ]
     },
     "execution_count": 38,
     "metadata": {},
     "output_type": "execute_result"
    }
   ],
   "source": [
    "vo_clf = VotingClassifier([('LR',lr_clf),('KNN',knn_clf)],voting='soft')\n",
    "vo_clf.fit(X_train,y_train)\n",
    "pred = vo_clf.predict(X_test)\n",
    "accuracy_score(y_test,pred)"
   ]
  },
  {
   "cell_type": "code",
   "execution_count": 39,
   "id": "10f168a2-a832-4c01-88cd-52086583fc1c",
   "metadata": {},
   "outputs": [
    {
     "name": "stdout",
     "output_type": "stream",
     "text": [
      "LogisticRegression정확도 : 0.9576\n",
      "KNeighborsClassifier정확도 : 0.9074\n"
     ]
    }
   ],
   "source": [
    "classifiers=[lr_clf,knn_clf]\n",
    "for classifier in classifiers:\n",
    "    classifier.fit(X_train,y_train)\n",
    "    pred = classifier.predict(X_test)\n",
    "    print(f'{classifier.__class__.__name__}정확도 : {accuracy_score(y_test,pred):.4f}')"
   ]
  },
  {
   "cell_type": "code",
   "execution_count": 40,
   "id": "98b6cf3d-564e-4149-848e-91d5f6bcc358",
   "metadata": {},
   "outputs": [],
   "source": [
    "from sklearn.model_selection import GridSearchCV"
   ]
  },
  {
   "cell_type": "code",
   "execution_count": 42,
   "id": "677fe170-e139-4204-83dc-dfc1c9d88863",
   "metadata": {},
   "outputs": [
    {
     "name": "stdout",
     "output_type": "stream",
     "text": [
      "Wall time: 1min 5s\n"
     ]
    },
    {
     "data": {
      "text/plain": [
       "({'max_depth': 10,\n",
       "  'min_samples_leaf': 8,\n",
       "  'min_samples_split': 18,\n",
       "  'n_estimators': 100},\n",
       " 0.9182535364526659)"
      ]
     },
     "execution_count": 42,
     "metadata": {},
     "output_type": "execute_result"
    }
   ],
   "source": [
    "%%time\n",
    "params={\n",
    "    'n_estimators':[100],\n",
    "    'max_depth':[6,8,10,12],\n",
    "    'min_samples_split':[8,12,18],\n",
    "    'min_samples_leaf':[8,16,20]  \n",
    "}\n",
    "rf_clf = RandomForestClassifier(random_state=0,n_jobs=-1)\n",
    "grid_cv = GridSearchCV(rf_clf,param_grid=params,cv=2,n_jobs=-1)\n",
    "grid_cv.fit(X_train,y_train)\n",
    "grid_cv.best_params_,grid_cv.best_score_"
   ]
  },
  {
   "cell_type": "code",
   "execution_count": 43,
   "id": "13408dce-d642-4a3b-83b5-01e474f3cd18",
   "metadata": {},
   "outputs": [
    {
     "data": {
      "text/plain": [
       "0.9175432643366135"
      ]
     },
     "execution_count": 43,
     "metadata": {},
     "output_type": "execute_result"
    }
   ],
   "source": [
    "rf_clf = RandomForestClassifier(max_depth=10,\n",
    "                                min_samples_leaf= 8,\n",
    "                                min_samples_split=18,\n",
    "                                n_estimators=300,\n",
    "                                random_state=0)\n",
    "rf_clf.fit(X_train,y_train)\n",
    "pred = rf_clf.predict(X_test)\n",
    "accuracy_score(y_test,pred)"
   ]
  },
  {
   "cell_type": "code",
   "execution_count": 44,
   "id": "92fee471-b7d8-4b0f-92f6-cd279d33813f",
   "metadata": {},
   "outputs": [],
   "source": [
    "from sklearn.ensemble import GradientBoostingClassifier"
   ]
  },
  {
   "cell_type": "code",
   "execution_count": 45,
   "id": "628fae27-2b4b-44e9-8d86-fab121b23553",
   "metadata": {},
   "outputs": [],
   "source": [
    "X_train,X_test,y_train,y_test = get_human_dataset()"
   ]
  },
  {
   "cell_type": "code",
   "execution_count": 46,
   "id": "a4beabd1-735b-43b0-8cf2-15514418dd6f",
   "metadata": {},
   "outputs": [
    {
     "name": "stdout",
     "output_type": "stream",
     "text": [
      "GBM 정확도:0.9389\n",
      "Wall time: 14min 51s\n"
     ]
    }
   ],
   "source": [
    "%%time\n",
    "gb_clf = GradientBoostingClassifier()\n",
    "gb_clf.fit(X_train,y_train)\n",
    "gb_pred = gb_clf.predict(X_test)\n",
    "gb_accuracy = accuracy_score(y_test,gb_pred)\n",
    "print(f'GBM 정확도:{gb_accuracy:.4f}')"
   ]
  },
  {
   "cell_type": "code",
   "execution_count": 51,
   "id": "56c70c8c-59b4-4e23-bfd3-f13f61fef360",
   "metadata": {},
   "outputs": [],
   "source": [
    "import xgboost as xgb\n",
    "from xgboost import plot_importance\n",
    "import pandas as pd\n",
    "import numpy as np\n",
    "from sklearn.datasets import load_breast_cancer\n",
    "from sklearn.model_selection import train_test_split\n",
    "import warnings\n",
    "warnings.filterwarnings('ignore')"
   ]
  },
  {
   "cell_type": "code",
   "execution_count": 52,
   "id": "fb3e5378-c943-4678-838b-e7ce4703b07f",
   "metadata": {},
   "outputs": [],
   "source": [
    "dataset = load_breast_cancer()\n",
    "X_features = dataset.data\n",
    "y_label = dataset.target"
   ]
  },
  {
   "cell_type": "code",
   "execution_count": 53,
   "id": "f4ef1776-4843-4b2c-826d-555820287f84",
   "metadata": {},
   "outputs": [
    {
     "data": {
      "text/html": [
       "<div>\n",
       "<style scoped>\n",
       "    .dataframe tbody tr th:only-of-type {\n",
       "        vertical-align: middle;\n",
       "    }\n",
       "\n",
       "    .dataframe tbody tr th {\n",
       "        vertical-align: top;\n",
       "    }\n",
       "\n",
       "    .dataframe thead th {\n",
       "        text-align: right;\n",
       "    }\n",
       "</style>\n",
       "<table border=\"1\" class=\"dataframe\">\n",
       "  <thead>\n",
       "    <tr style=\"text-align: right;\">\n",
       "      <th></th>\n",
       "      <th>mean radius</th>\n",
       "      <th>mean texture</th>\n",
       "      <th>mean perimeter</th>\n",
       "      <th>mean area</th>\n",
       "      <th>mean smoothness</th>\n",
       "      <th>mean compactness</th>\n",
       "      <th>mean concavity</th>\n",
       "      <th>mean concave points</th>\n",
       "      <th>mean symmetry</th>\n",
       "      <th>mean fractal dimension</th>\n",
       "      <th>...</th>\n",
       "      <th>worst texture</th>\n",
       "      <th>worst perimeter</th>\n",
       "      <th>worst area</th>\n",
       "      <th>worst smoothness</th>\n",
       "      <th>worst compactness</th>\n",
       "      <th>worst concavity</th>\n",
       "      <th>worst concave points</th>\n",
       "      <th>worst symmetry</th>\n",
       "      <th>worst fractal dimension</th>\n",
       "      <th>target</th>\n",
       "    </tr>\n",
       "  </thead>\n",
       "  <tbody>\n",
       "    <tr>\n",
       "      <th>0</th>\n",
       "      <td>17.99</td>\n",
       "      <td>10.38</td>\n",
       "      <td>122.8</td>\n",
       "      <td>1001.0</td>\n",
       "      <td>0.11840</td>\n",
       "      <td>0.27760</td>\n",
       "      <td>0.3001</td>\n",
       "      <td>0.14710</td>\n",
       "      <td>0.2419</td>\n",
       "      <td>0.07871</td>\n",
       "      <td>...</td>\n",
       "      <td>17.33</td>\n",
       "      <td>184.6</td>\n",
       "      <td>2019.0</td>\n",
       "      <td>0.1622</td>\n",
       "      <td>0.6656</td>\n",
       "      <td>0.7119</td>\n",
       "      <td>0.2654</td>\n",
       "      <td>0.4601</td>\n",
       "      <td>0.11890</td>\n",
       "      <td>0</td>\n",
       "    </tr>\n",
       "    <tr>\n",
       "      <th>1</th>\n",
       "      <td>20.57</td>\n",
       "      <td>17.77</td>\n",
       "      <td>132.9</td>\n",
       "      <td>1326.0</td>\n",
       "      <td>0.08474</td>\n",
       "      <td>0.07864</td>\n",
       "      <td>0.0869</td>\n",
       "      <td>0.07017</td>\n",
       "      <td>0.1812</td>\n",
       "      <td>0.05667</td>\n",
       "      <td>...</td>\n",
       "      <td>23.41</td>\n",
       "      <td>158.8</td>\n",
       "      <td>1956.0</td>\n",
       "      <td>0.1238</td>\n",
       "      <td>0.1866</td>\n",
       "      <td>0.2416</td>\n",
       "      <td>0.1860</td>\n",
       "      <td>0.2750</td>\n",
       "      <td>0.08902</td>\n",
       "      <td>0</td>\n",
       "    </tr>\n",
       "  </tbody>\n",
       "</table>\n",
       "<p>2 rows × 31 columns</p>\n",
       "</div>"
      ],
      "text/plain": [
       "   mean radius  mean texture  mean perimeter  mean area  mean smoothness  \\\n",
       "0        17.99         10.38           122.8     1001.0          0.11840   \n",
       "1        20.57         17.77           132.9     1326.0          0.08474   \n",
       "\n",
       "   mean compactness  mean concavity  mean concave points  mean symmetry  \\\n",
       "0           0.27760          0.3001              0.14710         0.2419   \n",
       "1           0.07864          0.0869              0.07017         0.1812   \n",
       "\n",
       "   mean fractal dimension  ...  worst texture  worst perimeter  worst area  \\\n",
       "0                 0.07871  ...          17.33            184.6      2019.0   \n",
       "1                 0.05667  ...          23.41            158.8      1956.0   \n",
       "\n",
       "   worst smoothness  worst compactness  worst concavity  worst concave points  \\\n",
       "0            0.1622             0.6656           0.7119                0.2654   \n",
       "1            0.1238             0.1866           0.2416                0.1860   \n",
       "\n",
       "   worst symmetry  worst fractal dimension  target  \n",
       "0          0.4601                  0.11890       0  \n",
       "1          0.2750                  0.08902       0  \n",
       "\n",
       "[2 rows x 31 columns]"
      ]
     },
     "execution_count": 53,
     "metadata": {},
     "output_type": "execute_result"
    }
   ],
   "source": [
    "cancer_df = pd.DataFrame(data=X_features,columns=dataset.feature_names)\n",
    "cancer_df['target']=y_label\n",
    "cancer_df.head(2)"
   ]
  },
  {
   "cell_type": "code",
   "execution_count": 54,
   "id": "0d2805ce-8d8f-4a2b-9a15-eb4b15dd5581",
   "metadata": {},
   "outputs": [
    {
     "data": {
      "text/plain": [
       "array(['malignant', 'benign'], dtype='<U9')"
      ]
     },
     "execution_count": 54,
     "metadata": {},
     "output_type": "execute_result"
    }
   ],
   "source": [
    "dataset.target_names"
   ]
  },
  {
   "cell_type": "code",
   "execution_count": 55,
   "id": "c2c69b36-b17e-4a6f-9498-214e16c27065",
   "metadata": {},
   "outputs": [
    {
     "data": {
      "text/plain": [
       "1    357\n",
       "0    212\n",
       "Name: target, dtype: int64"
      ]
     },
     "execution_count": 55,
     "metadata": {},
     "output_type": "execute_result"
    }
   ],
   "source": [
    "cancer_df['target'].value_counts()"
   ]
  },
  {
   "cell_type": "code",
   "execution_count": 56,
   "id": "55d86b9c-aeaa-404f-be31-b6ce01306ef0",
   "metadata": {},
   "outputs": [],
   "source": [
    "X_train,X_test,y_train,y_test = train_test_split(X_features,\n",
    "                                                 y_label,\n",
    "                                                 test_size=0.2,\n",
    "                                                 random_state=156)"
   ]
  },
  {
   "cell_type": "code",
   "execution_count": 57,
   "id": "103ab498-cc79-453c-a3b2-53ac90a5abea",
   "metadata": {},
   "outputs": [
    {
     "data": {
      "text/plain": [
       "((455, 30), (114, 30))"
      ]
     },
     "execution_count": 57,
     "metadata": {},
     "output_type": "execute_result"
    }
   ],
   "source": [
    "X_train.shape,X_test.shape"
   ]
  },
  {
   "cell_type": "code",
   "execution_count": 58,
   "id": "945be5e1-d045-441c-9688-82d836435383",
   "metadata": {},
   "outputs": [],
   "source": [
    "dtrain = xgb.DMatrix(data=X_train,label=y_train)\n",
    "dtest = xgb.DMatrix(data=X_test,label=y_test)"
   ]
  },
  {
   "cell_type": "code",
   "execution_count": 59,
   "id": "9560daf8-f12b-4835-b7bc-b96501f22973",
   "metadata": {
    "collapsed": true,
    "jupyter": {
     "outputs_hidden": true
    },
    "tags": []
   },
   "outputs": [
    {
     "name": "stdout",
     "output_type": "stream",
     "text": [
      "[16:12:39] WARNING: ..\\src\\learner.cc:576: \n",
      "Parameters: { \"early_stoppings\" } might not be used.\n",
      "\n",
      "  This could be a false alarm, with some parameters getting used by language bindings but\n",
      "  then being mistakenly passed down to XGBoost core, or some parameter actually being used\n",
      "  but getting flagged wrongly here. Please open an issue if you find any such cases.\n",
      "\n",
      "\n",
      "[0]\ttrain-logloss:0.46775\teval-logloss:0.47984\n",
      "[1]\ttrain-logloss:0.33578\teval-logloss:0.36218\n",
      "[2]\ttrain-logloss:0.25254\teval-logloss:0.29004\n",
      "[3]\ttrain-logloss:0.19584\teval-logloss:0.23382\n",
      "[4]\ttrain-logloss:0.15664\teval-logloss:0.19901\n",
      "[5]\ttrain-logloss:0.12663\teval-logloss:0.17469\n",
      "[6]\ttrain-logloss:0.10353\teval-logloss:0.15549\n",
      "[7]\ttrain-logloss:0.08545\teval-logloss:0.13367\n",
      "[8]\ttrain-logloss:0.07277\teval-logloss:0.12411\n",
      "[9]\ttrain-logloss:0.06333\teval-logloss:0.11611\n",
      "[10]\ttrain-logloss:0.05484\teval-logloss:0.10768\n",
      "[11]\ttrain-logloss:0.04787\teval-logloss:0.10018\n",
      "[12]\ttrain-logloss:0.04334\teval-logloss:0.09754\n",
      "[13]\ttrain-logloss:0.03794\teval-logloss:0.08920\n",
      "[14]\ttrain-logloss:0.03308\teval-logloss:0.09259\n",
      "[15]\ttrain-logloss:0.02942\teval-logloss:0.09144\n",
      "[16]\ttrain-logloss:0.02689\teval-logloss:0.09066\n",
      "[17]\ttrain-logloss:0.02439\teval-logloss:0.09058\n",
      "[18]\ttrain-logloss:0.02226\teval-logloss:0.08894\n",
      "[19]\ttrain-logloss:0.02053\teval-logloss:0.08622\n",
      "[20]\ttrain-logloss:0.01891\teval-logloss:0.08694\n",
      "[21]\ttrain-logloss:0.01766\teval-logloss:0.08437\n",
      "[22]\ttrain-logloss:0.01649\teval-logloss:0.08092\n",
      "[23]\ttrain-logloss:0.01547\teval-logloss:0.08404\n",
      "[24]\ttrain-logloss:0.01457\teval-logloss:0.08252\n",
      "[25]\ttrain-logloss:0.01381\teval-logloss:0.08363\n",
      "[26]\ttrain-logloss:0.01322\teval-logloss:0.08221\n",
      "[27]\ttrain-logloss:0.01285\teval-logloss:0.08006\n",
      "[28]\ttrain-logloss:0.01222\teval-logloss:0.08012\n",
      "[29]\ttrain-logloss:0.01170\teval-logloss:0.08106\n",
      "[30]\ttrain-logloss:0.01127\teval-logloss:0.07912\n",
      "[31]\ttrain-logloss:0.01086\teval-logloss:0.07902\n",
      "[32]\ttrain-logloss:0.01044\teval-logloss:0.07828\n",
      "[33]\ttrain-logloss:0.01009\teval-logloss:0.07763\n",
      "[34]\ttrain-logloss:0.00977\teval-logloss:0.07815\n",
      "[35]\ttrain-logloss:0.00948\teval-logloss:0.07717\n",
      "[36]\ttrain-logloss:0.00916\teval-logloss:0.08030\n",
      "[37]\ttrain-logloss:0.00899\teval-logloss:0.07981\n",
      "[38]\ttrain-logloss:0.00875\teval-logloss:0.07970\n",
      "[39]\ttrain-logloss:0.00862\teval-logloss:0.07979\n",
      "[40]\ttrain-logloss:0.00842\teval-logloss:0.08142\n",
      "[41]\ttrain-logloss:0.00826\teval-logloss:0.08108\n",
      "[42]\ttrain-logloss:0.00817\teval-logloss:0.08093\n",
      "[43]\ttrain-logloss:0.00791\teval-logloss:0.08288\n",
      "[44]\ttrain-logloss:0.00783\teval-logloss:0.08297\n",
      "[45]\ttrain-logloss:0.00775\teval-logloss:0.08286\n",
      "[46]\ttrain-logloss:0.00757\teval-logloss:0.08421\n",
      "[47]\ttrain-logloss:0.00749\teval-logloss:0.08398\n",
      "[48]\ttrain-logloss:0.00741\teval-logloss:0.08323\n",
      "[49]\ttrain-logloss:0.00734\teval-logloss:0.08398\n",
      "[50]\ttrain-logloss:0.00727\teval-logloss:0.08317\n",
      "[51]\ttrain-logloss:0.00721\teval-logloss:0.08331\n",
      "[52]\ttrain-logloss:0.00714\teval-logloss:0.08325\n",
      "[53]\ttrain-logloss:0.00708\teval-logloss:0.08248\n",
      "[54]\ttrain-logloss:0.00702\teval-logloss:0.08220\n",
      "[55]\ttrain-logloss:0.00696\teval-logloss:0.08152\n",
      "[56]\ttrain-logloss:0.00690\teval-logloss:0.08139\n",
      "[57]\ttrain-logloss:0.00683\teval-logloss:0.08152\n",
      "[58]\ttrain-logloss:0.00678\teval-logloss:0.08088\n",
      "[59]\ttrain-logloss:0.00672\teval-logloss:0.08083\n",
      "[60]\ttrain-logloss:0.00667\teval-logloss:0.08148\n",
      "[61]\ttrain-logloss:0.00662\teval-logloss:0.08076\n",
      "[62]\ttrain-logloss:0.00656\teval-logloss:0.08069\n",
      "[63]\ttrain-logloss:0.00652\teval-logloss:0.08011\n",
      "[64]\ttrain-logloss:0.00647\teval-logloss:0.07985\n",
      "[65]\ttrain-logloss:0.00642\teval-logloss:0.08013\n",
      "[66]\ttrain-logloss:0.00637\teval-logloss:0.08075\n",
      "[67]\ttrain-logloss:0.00633\teval-logloss:0.08075\n",
      "[68]\ttrain-logloss:0.00628\teval-logloss:0.08018\n",
      "[69]\ttrain-logloss:0.00624\teval-logloss:0.08022\n",
      "[70]\ttrain-logloss:0.00620\teval-logloss:0.08028\n",
      "[71]\ttrain-logloss:0.00615\teval-logloss:0.08027\n",
      "[72]\ttrain-logloss:0.00612\teval-logloss:0.08066\n",
      "[73]\ttrain-logloss:0.00607\teval-logloss:0.08046\n",
      "[74]\ttrain-logloss:0.00604\teval-logloss:0.08022\n",
      "[75]\ttrain-logloss:0.00600\teval-logloss:0.08049\n",
      "[76]\ttrain-logloss:0.00596\teval-logloss:0.08103\n",
      "[77]\ttrain-logloss:0.00592\teval-logloss:0.08086\n",
      "[78]\ttrain-logloss:0.00589\teval-logloss:0.08093\n",
      "[79]\ttrain-logloss:0.00585\teval-logloss:0.08098\n",
      "[80]\ttrain-logloss:0.00582\teval-logloss:0.08100\n",
      "[81]\ttrain-logloss:0.00579\teval-logloss:0.08151\n",
      "[82]\ttrain-logloss:0.00576\teval-logloss:0.08136\n",
      "[83]\ttrain-logloss:0.00573\teval-logloss:0.08115\n",
      "[84]\ttrain-logloss:0.00570\teval-logloss:0.08078\n",
      "[85]\ttrain-logloss:0.00567\teval-logloss:0.08082\n",
      "[86]\ttrain-logloss:0.00564\teval-logloss:0.08086\n",
      "[87]\ttrain-logloss:0.00562\teval-logloss:0.08052\n",
      "[88]\ttrain-logloss:0.00559\teval-logloss:0.08057\n",
      "[89]\ttrain-logloss:0.00557\teval-logloss:0.08081\n",
      "[90]\ttrain-logloss:0.00554\teval-logloss:0.08051\n",
      "[91]\ttrain-logloss:0.00552\teval-logloss:0.08086\n",
      "[92]\ttrain-logloss:0.00549\teval-logloss:0.08069\n",
      "[93]\ttrain-logloss:0.00547\teval-logloss:0.08040\n",
      "[94]\ttrain-logloss:0.00545\teval-logloss:0.08045\n",
      "[95]\ttrain-logloss:0.00543\teval-logloss:0.08050\n",
      "[96]\ttrain-logloss:0.00541\teval-logloss:0.08072\n",
      "[97]\ttrain-logloss:0.00539\teval-logloss:0.08045\n",
      "[98]\ttrain-logloss:0.00537\teval-logloss:0.08078\n",
      "[99]\ttrain-logloss:0.00535\teval-logloss:0.08044\n",
      "[100]\ttrain-logloss:0.00533\teval-logloss:0.08018\n",
      "[101]\ttrain-logloss:0.00531\teval-logloss:0.08049\n",
      "[102]\ttrain-logloss:0.00529\teval-logloss:0.08070\n",
      "[103]\ttrain-logloss:0.00527\teval-logloss:0.08045\n",
      "[104]\ttrain-logloss:0.00526\teval-logloss:0.08013\n",
      "[105]\ttrain-logloss:0.00524\teval-logloss:0.08007\n",
      "[106]\ttrain-logloss:0.00522\teval-logloss:0.08011\n",
      "[107]\ttrain-logloss:0.00520\teval-logloss:0.07986\n",
      "[108]\ttrain-logloss:0.00519\teval-logloss:0.08016\n",
      "[109]\ttrain-logloss:0.00517\teval-logloss:0.08036\n",
      "[110]\ttrain-logloss:0.00515\teval-logloss:0.08013\n",
      "[111]\ttrain-logloss:0.00514\teval-logloss:0.08019\n",
      "[112]\ttrain-logloss:0.00512\teval-logloss:0.08023\n",
      "[113]\ttrain-logloss:0.00511\teval-logloss:0.07999\n",
      "[114]\ttrain-logloss:0.00509\teval-logloss:0.08028\n",
      "[115]\ttrain-logloss:0.00508\teval-logloss:0.08048\n",
      "[116]\ttrain-logloss:0.00506\teval-logloss:0.08017\n",
      "[117]\ttrain-logloss:0.00505\teval-logloss:0.07995\n",
      "[118]\ttrain-logloss:0.00503\teval-logloss:0.07990\n",
      "[119]\ttrain-logloss:0.00502\teval-logloss:0.07994\n",
      "[120]\ttrain-logloss:0.00501\teval-logloss:0.07997\n",
      "[121]\ttrain-logloss:0.00500\teval-logloss:0.08002\n",
      "[122]\ttrain-logloss:0.00498\teval-logloss:0.08006\n",
      "[123]\ttrain-logloss:0.00497\teval-logloss:0.07986\n",
      "[124]\ttrain-logloss:0.00496\teval-logloss:0.08012\n",
      "[125]\ttrain-logloss:0.00494\teval-logloss:0.08031\n",
      "[126]\ttrain-logloss:0.00493\teval-logloss:0.08004\n",
      "[127]\ttrain-logloss:0.00492\teval-logloss:0.07984\n",
      "[128]\ttrain-logloss:0.00491\teval-logloss:0.08009\n",
      "[129]\ttrain-logloss:0.00490\teval-logloss:0.07974\n",
      "[130]\ttrain-logloss:0.00489\teval-logloss:0.07978\n",
      "[131]\ttrain-logloss:0.00488\teval-logloss:0.07982\n",
      "[132]\ttrain-logloss:0.00487\teval-logloss:0.07963\n",
      "[133]\ttrain-logloss:0.00486\teval-logloss:0.07980\n",
      "[134]\ttrain-logloss:0.00485\teval-logloss:0.07956\n"
     ]
    }
   ],
   "source": [
    "params = {\n",
    "    'max_depth':3,\n",
    "    'objective':'binary:logistic',\n",
    "    'eval_metric':'logloss',\n",
    "    'early_stoppings':100\n",
    "}\n",
    "num_rounds=400\n",
    "\n",
    "wlist = [(dtrain,'train'),(dtest,'eval')]\n",
    "xgb_model = xgb.train(params=params,\n",
    "                      dtrain=dtrain,\n",
    "                      num_boost_round=num_rounds,\n",
    "                      early_stopping_rounds=100,\n",
    "                      evals=wlist)"
   ]
  },
  {
   "cell_type": "code",
   "execution_count": 60,
   "id": "023b4827-8070-4ee6-b87a-73f63d35bff3",
   "metadata": {},
   "outputs": [],
   "source": [
    "pred_probs = xgb_model.predict(dtest)"
   ]
  },
  {
   "cell_type": "code",
   "execution_count": 64,
   "id": "1c7f4046-4765-4311-ae81-fdf1791b6a0b",
   "metadata": {},
   "outputs": [
    {
     "data": {
      "text/plain": [
       "array([0.978, 0.004, 0.945, 0.054, 0.994, 1.   , 1.   , 1.   , 0.998,\n",
       "       0.   ], dtype=float32)"
      ]
     },
     "execution_count": 64,
     "metadata": {},
     "output_type": "execute_result"
    }
   ],
   "source": [
    "np.round(pred_probs,3)[:10]"
   ]
  },
  {
   "cell_type": "code",
   "execution_count": 65,
   "id": "f8c4b68e-b43f-4772-8602-31c1e8a57e51",
   "metadata": {},
   "outputs": [],
   "source": [
    "preds = [1 if x > 0.5 else 0 for x in pred_probs]"
   ]
  },
  {
   "cell_type": "code",
   "execution_count": 66,
   "id": "156f15bf-60e2-48a3-8f7e-7c09202ea33c",
   "metadata": {},
   "outputs": [
    {
     "data": {
      "text/plain": [
       "[1, 0, 1, 0, 1, 1, 1, 1, 1, 0]"
      ]
     },
     "execution_count": 66,
     "metadata": {},
     "output_type": "execute_result"
    }
   ],
   "source": [
    "preds[:10]"
   ]
  },
  {
   "cell_type": "code",
   "execution_count": 69,
   "id": "3a5cbfe5-eeb8-4f60-aad0-c0c80e840d38",
   "metadata": {},
   "outputs": [],
   "source": [
    "def get_clf_eval(y_test,pred,pred_proba):\n",
    "    from sklearn.metrics import confusion_matrix,accuracy_score,precision_score,recall_score,f1_score,roc_auc_score\n",
    "    confusion = confusion_matrix(y_test,pred)\n",
    "    accuracy = accuracy_score(y_test,pred)\n",
    "    precision = precision_score(y_test,pred)\n",
    "    recall = recall_score(y_test,pred)\n",
    "    f1 = f1_score(y_test,pred)\n",
    "    auc = roc_auc_score(y_test,pred_proba)\n",
    "    print('오차행렬')\n",
    "    print(confusion)\n",
    "    print(f'정확도:{accuracy:.4f},정밀도:{precision:.4f},재현율:{recall:.4f},F1:{f1:.4f},auc:{auc:.4f}')"
   ]
  },
  {
   "cell_type": "code",
   "execution_count": 70,
   "id": "f18f13fd-0c0f-4823-a174-3812384a4c5f",
   "metadata": {},
   "outputs": [
    {
     "name": "stdout",
     "output_type": "stream",
     "text": [
      "오차행렬\n",
      "[[35  2]\n",
      " [ 2 75]]\n",
      "정확도:0.9649,정밀도:0.9740,재현율:0.9740,F1:0.9740,auc:0.9961\n"
     ]
    }
   ],
   "source": [
    "get_clf_eval(y_test,preds,pred_probs)"
   ]
  },
  {
   "cell_type": "code",
   "execution_count": 73,
   "id": "ea0740fa-3363-485d-9193-647133613ad3",
   "metadata": {},
   "outputs": [
    {
     "data": {
      "text/plain": [
       "<AxesSubplot:title={'center':'Feature importance'}, xlabel='F score', ylabel='Features'>"
      ]
     },
     "execution_count": 73,
     "metadata": {},
     "output_type": "execute_result"
    },
    {
     "data": {
      "image/png": "[encoded data removed]",
      "text/plain": [
       "<Figure size 432x288 with 1 Axes>"
      ]
     },
     "metadata": {
      "needs_background": "light"
     },
     "output_type": "display_data"
    }
   ],
   "source": [
    "plot_importance(xgb_model)"
   ]
  },
  {
   "cell_type": "code",
   "execution_count": 74,
   "id": "588a7c7b-b12d-4053-818d-01428cc0ddfb",
   "metadata": {},
   "outputs": [],
   "source": [
    "from xgboost import XGBClassifier"
   ]
  },
  {
   "cell_type": "code",
   "execution_count": 76,
   "id": "a82a276b-eabc-4c79-a696-3556a0fcb12b",
   "metadata": {},
   "outputs": [
    {
     "name": "stdout",
     "output_type": "stream",
     "text": [
      "[16:46:41] WARNING: ..\\src\\learner.cc:1115: Starting in XGBoost 1.3.0, the default evaluation metric used with the objective 'binary:logistic' was changed from 'error' to 'logloss'. Explicitly set eval_metric if you'd like to restore the old behavior.\n",
      "오차행렬\n",
      "[[35  2]\n",
      " [ 1 76]]\n",
      "정확도:0.9737,정밀도:0.9744,재현율:0.9870,F1:0.9806,auc:0.9951\n"
     ]
    }
   ],
   "source": [
    "xgb_wrapper = XGBClassifier(n_estimators=400,learning_rate=0.1,max_depth=3)\n",
    "xgb_wrapper.fit(X_train,y_train)\n",
    "w_preds = xgb_wrapper.predict(X_test)\n",
    "w_preds_proba =xgb_wrapper.predict_proba(X_test)[:,1]\n",
    "get_clf_eval(y_test,w_preds,w_preds_proba)"
   ]
  },
  {
   "cell_type": "code",
   "execution_count": 77,
   "id": "b1781f38-0f02-41fd-bc68-a804c73d2420",
   "metadata": {
    "tags": []
   },
   "outputs": [
    {
     "name": "stdout",
     "output_type": "stream",
     "text": [
      "[0]\tvalidation_0-logloss:0.61352\n",
      "[1]\tvalidation_0-logloss:0.54784\n",
      "[2]\tvalidation_0-logloss:0.49425\n",
      "[3]\tvalidation_0-logloss:0.44799\n",
      "[4]\tvalidation_0-logloss:0.40911\n",
      "[5]\tvalidation_0-logloss:0.37498\n",
      "[6]\tvalidation_0-logloss:0.34571\n",
      "[7]\tvalidation_0-logloss:0.32053\n",
      "[8]\tvalidation_0-logloss:0.29721\n",
      "[9]\tvalidation_0-logloss:0.27799\n",
      "[10]\tvalidation_0-logloss:0.26030\n",
      "[11]\tvalidation_0-logloss:0.24604\n",
      "[12]\tvalidation_0-logloss:0.23156\n",
      "[13]\tvalidation_0-logloss:0.22005\n",
      "[14]\tvalidation_0-logloss:0.20857\n",
      "[15]\tvalidation_0-logloss:0.19999\n",
      "[16]\tvalidation_0-logloss:0.19012\n",
      "[17]\tvalidation_0-logloss:0.18182\n",
      "[18]\tvalidation_0-logloss:0.17473\n",
      "[19]\tvalidation_0-logloss:0.16766\n",
      "[20]\tvalidation_0-logloss:0.15820\n",
      "[21]\tvalidation_0-logloss:0.15473\n",
      "[22]\tvalidation_0-logloss:0.14895\n",
      "[23]\tvalidation_0-logloss:0.14331\n",
      "[24]\tvalidation_0-logloss:0.13634\n",
      "[25]\tvalidation_0-logloss:0.13278\n",
      "[26]\tvalidation_0-logloss:0.12791\n",
      "[27]\tvalidation_0-logloss:0.12526\n",
      "[28]\tvalidation_0-logloss:0.11998\n",
      "[29]\tvalidation_0-logloss:0.11641\n",
      "[30]\tvalidation_0-logloss:0.11450\n",
      "[31]\tvalidation_0-logloss:0.11257\n",
      "[32]\tvalidation_0-logloss:0.11154\n",
      "[33]\tvalidation_0-logloss:0.10868\n",
      "[34]\tvalidation_0-logloss:0.10668\n",
      "[35]\tvalidation_0-logloss:0.10421\n",
      "[36]\tvalidation_0-logloss:0.10296\n",
      "[37]\tvalidation_0-logloss:0.10058\n",
      "[38]\tvalidation_0-logloss:0.09868\n",
      "[39]\tvalidation_0-logloss:0.09644\n",
      "[40]\tvalidation_0-logloss:0.09587\n",
      "[41]\tvalidation_0-logloss:0.09424\n",
      "[42]\tvalidation_0-logloss:0.09471\n",
      "[43]\tvalidation_0-logloss:0.09427\n",
      "[44]\tvalidation_0-logloss:0.09389\n",
      "[45]\tvalidation_0-logloss:0.09418\n",
      "[46]\tvalidation_0-logloss:0.09402\n",
      "[47]\tvalidation_0-logloss:0.09236\n",
      "[48]\tvalidation_0-logloss:0.09301\n",
      "[49]\tvalidation_0-logloss:0.09127\n",
      "[50]\tvalidation_0-logloss:0.09005\n",
      "[51]\tvalidation_0-logloss:0.08961\n",
      "[52]\tvalidation_0-logloss:0.08958\n",
      "[53]\tvalidation_0-logloss:0.09070\n",
      "[54]\tvalidation_0-logloss:0.08958\n",
      "[55]\tvalidation_0-logloss:0.09036\n",
      "[56]\tvalidation_0-logloss:0.09159\n",
      "[57]\tvalidation_0-logloss:0.09153\n",
      "[58]\tvalidation_0-logloss:0.09199\n",
      "[59]\tvalidation_0-logloss:0.09195\n",
      "[60]\tvalidation_0-logloss:0.09194\n",
      "[61]\tvalidation_0-logloss:0.09146\n",
      "[62]\tvalidation_0-logloss:0.09031\n",
      "[63]\tvalidation_0-logloss:0.08941\n",
      "[64]\tvalidation_0-logloss:0.08972\n",
      "[65]\tvalidation_0-logloss:0.08974\n",
      "[66]\tvalidation_0-logloss:0.08962\n",
      "[67]\tvalidation_0-logloss:0.08873\n",
      "[68]\tvalidation_0-logloss:0.08862\n",
      "[69]\tvalidation_0-logloss:0.08974\n",
      "[70]\tvalidation_0-logloss:0.08998\n",
      "[71]\tvalidation_0-logloss:0.08978\n",
      "[72]\tvalidation_0-logloss:0.08958\n",
      "[73]\tvalidation_0-logloss:0.08953\n",
      "[74]\tvalidation_0-logloss:0.08875\n",
      "[75]\tvalidation_0-logloss:0.08860\n",
      "[76]\tvalidation_0-logloss:0.08812\n",
      "[77]\tvalidation_0-logloss:0.08840\n",
      "[78]\tvalidation_0-logloss:0.08874\n",
      "[79]\tvalidation_0-logloss:0.08815\n",
      "[80]\tvalidation_0-logloss:0.08758\n",
      "[81]\tvalidation_0-logloss:0.08741\n",
      "[82]\tvalidation_0-logloss:0.08849\n",
      "[83]\tvalidation_0-logloss:0.08858\n",
      "[84]\tvalidation_0-logloss:0.08807\n",
      "[85]\tvalidation_0-logloss:0.08764\n",
      "[86]\tvalidation_0-logloss:0.08742\n",
      "[87]\tvalidation_0-logloss:0.08761\n",
      "[88]\tvalidation_0-logloss:0.08707\n",
      "[89]\tvalidation_0-logloss:0.08727\n",
      "[90]\tvalidation_0-logloss:0.08716\n",
      "[91]\tvalidation_0-logloss:0.08696\n",
      "[92]\tvalidation_0-logloss:0.08717\n",
      "[93]\tvalidation_0-logloss:0.08707\n",
      "[94]\tvalidation_0-logloss:0.08659\n",
      "[95]\tvalidation_0-logloss:0.08612\n",
      "[96]\tvalidation_0-logloss:0.08714\n",
      "[97]\tvalidation_0-logloss:0.08677\n",
      "[98]\tvalidation_0-logloss:0.08669\n",
      "[99]\tvalidation_0-logloss:0.08655\n",
      "[100]\tvalidation_0-logloss:0.08650\n",
      "[101]\tvalidation_0-logloss:0.08641\n",
      "[102]\tvalidation_0-logloss:0.08629\n",
      "[103]\tvalidation_0-logloss:0.08626\n",
      "[104]\tvalidation_0-logloss:0.08683\n",
      "[105]\tvalidation_0-logloss:0.08677\n",
      "[106]\tvalidation_0-logloss:0.08732\n",
      "[107]\tvalidation_0-logloss:0.08730\n",
      "[108]\tvalidation_0-logloss:0.08728\n",
      "[109]\tvalidation_0-logloss:0.08730\n",
      "[110]\tvalidation_0-logloss:0.08729\n",
      "[111]\tvalidation_0-logloss:0.08800\n",
      "[112]\tvalidation_0-logloss:0.08794\n",
      "[113]\tvalidation_0-logloss:0.08784\n",
      "[114]\tvalidation_0-logloss:0.08807\n",
      "[115]\tvalidation_0-logloss:0.08765\n",
      "[116]\tvalidation_0-logloss:0.08730\n",
      "[117]\tvalidation_0-logloss:0.08780\n",
      "[118]\tvalidation_0-logloss:0.08775\n",
      "[119]\tvalidation_0-logloss:0.08768\n",
      "[120]\tvalidation_0-logloss:0.08763\n",
      "[121]\tvalidation_0-logloss:0.08757\n",
      "[122]\tvalidation_0-logloss:0.08755\n",
      "[123]\tvalidation_0-logloss:0.08716\n",
      "[124]\tvalidation_0-logloss:0.08767\n",
      "[125]\tvalidation_0-logloss:0.08774\n",
      "[126]\tvalidation_0-logloss:0.08828\n",
      "[127]\tvalidation_0-logloss:0.08831\n",
      "[128]\tvalidation_0-logloss:0.08827\n",
      "[129]\tvalidation_0-logloss:0.08789\n",
      "[130]\tvalidation_0-logloss:0.08886\n",
      "[131]\tvalidation_0-logloss:0.08868\n",
      "[132]\tvalidation_0-logloss:0.08874\n",
      "[133]\tvalidation_0-logloss:0.08922\n",
      "[134]\tvalidation_0-logloss:0.08918\n",
      "[135]\tvalidation_0-logloss:0.08882\n",
      "[136]\tvalidation_0-logloss:0.08851\n",
      "[137]\tvalidation_0-logloss:0.08848\n",
      "[138]\tvalidation_0-logloss:0.08839\n",
      "[139]\tvalidation_0-logloss:0.08915\n",
      "[140]\tvalidation_0-logloss:0.08911\n",
      "[141]\tvalidation_0-logloss:0.08876\n",
      "[142]\tvalidation_0-logloss:0.08868\n",
      "[143]\tvalidation_0-logloss:0.08839\n",
      "[144]\tvalidation_0-logloss:0.08927\n",
      "[145]\tvalidation_0-logloss:0.08924\n",
      "[146]\tvalidation_0-logloss:0.08914\n",
      "[147]\tvalidation_0-logloss:0.08891\n",
      "[148]\tvalidation_0-logloss:0.08942\n",
      "[149]\tvalidation_0-logloss:0.08939\n",
      "[150]\tvalidation_0-logloss:0.08911\n",
      "[151]\tvalidation_0-logloss:0.08873\n",
      "[152]\tvalidation_0-logloss:0.08872\n",
      "[153]\tvalidation_0-logloss:0.08848\n",
      "[154]\tvalidation_0-logloss:0.08847\n",
      "[155]\tvalidation_0-logloss:0.08854\n",
      "[156]\tvalidation_0-logloss:0.08852\n",
      "[157]\tvalidation_0-logloss:0.08855\n",
      "[158]\tvalidation_0-logloss:0.08828\n",
      "[159]\tvalidation_0-logloss:0.08830\n",
      "[160]\tvalidation_0-logloss:0.08828\n",
      "[161]\tvalidation_0-logloss:0.08801\n",
      "[162]\tvalidation_0-logloss:0.08776\n",
      "[163]\tvalidation_0-logloss:0.08778\n",
      "[164]\tvalidation_0-logloss:0.08778\n",
      "[165]\tvalidation_0-logloss:0.08752\n",
      "[166]\tvalidation_0-logloss:0.08754\n",
      "[167]\tvalidation_0-logloss:0.08764\n",
      "[168]\tvalidation_0-logloss:0.08739\n",
      "[169]\tvalidation_0-logloss:0.08738\n",
      "[170]\tvalidation_0-logloss:0.08730\n",
      "[171]\tvalidation_0-logloss:0.08737\n",
      "[172]\tvalidation_0-logloss:0.08740\n",
      "[173]\tvalidation_0-logloss:0.08739\n",
      "[174]\tvalidation_0-logloss:0.08713\n",
      "[175]\tvalidation_0-logloss:0.08716\n",
      "[176]\tvalidation_0-logloss:0.08696\n",
      "[177]\tvalidation_0-logloss:0.08705\n",
      "[178]\tvalidation_0-logloss:0.08697\n",
      "[179]\tvalidation_0-logloss:0.08697\n",
      "[180]\tvalidation_0-logloss:0.08704\n",
      "[181]\tvalidation_0-logloss:0.08680\n",
      "[182]\tvalidation_0-logloss:0.08683\n",
      "[183]\tvalidation_0-logloss:0.08658\n",
      "[184]\tvalidation_0-logloss:0.08659\n",
      "[185]\tvalidation_0-logloss:0.08661\n",
      "[186]\tvalidation_0-logloss:0.08637\n",
      "[187]\tvalidation_0-logloss:0.08637\n",
      "[188]\tvalidation_0-logloss:0.08630\n",
      "[189]\tvalidation_0-logloss:0.08610\n",
      "[190]\tvalidation_0-logloss:0.08602\n",
      "[191]\tvalidation_0-logloss:0.08605\n",
      "[192]\tvalidation_0-logloss:0.08615\n",
      "[193]\tvalidation_0-logloss:0.08592\n",
      "[194]\tvalidation_0-logloss:0.08592\n",
      "[195]\tvalidation_0-logloss:0.08598\n",
      "[196]\tvalidation_0-logloss:0.08601\n",
      "[197]\tvalidation_0-logloss:0.08592\n",
      "[198]\tvalidation_0-logloss:0.08585\n",
      "[199]\tvalidation_0-logloss:0.08587\n",
      "[200]\tvalidation_0-logloss:0.08589\n",
      "[201]\tvalidation_0-logloss:0.08595\n",
      "[202]\tvalidation_0-logloss:0.08573\n",
      "[203]\tvalidation_0-logloss:0.08573\n",
      "[204]\tvalidation_0-logloss:0.08575\n",
      "[205]\tvalidation_0-logloss:0.08582\n",
      "[206]\tvalidation_0-logloss:0.08584\n",
      "[207]\tvalidation_0-logloss:0.08578\n",
      "[208]\tvalidation_0-logloss:0.08569\n",
      "[209]\tvalidation_0-logloss:0.08571\n",
      "[210]\tvalidation_0-logloss:0.08581\n",
      "[211]\tvalidation_0-logloss:0.08559\n",
      "[212]\tvalidation_0-logloss:0.08580\n",
      "[213]\tvalidation_0-logloss:0.08581\n",
      "[214]\tvalidation_0-logloss:0.08574\n",
      "[215]\tvalidation_0-logloss:0.08566\n",
      "[216]\tvalidation_0-logloss:0.08584\n",
      "[217]\tvalidation_0-logloss:0.08563\n",
      "[218]\tvalidation_0-logloss:0.08573\n",
      "[219]\tvalidation_0-logloss:0.08578\n",
      "[220]\tvalidation_0-logloss:0.08579\n",
      "[221]\tvalidation_0-logloss:0.08582\n",
      "[222]\tvalidation_0-logloss:0.08576\n",
      "[223]\tvalidation_0-logloss:0.08567\n",
      "[224]\tvalidation_0-logloss:0.08586\n",
      "[225]\tvalidation_0-logloss:0.08587\n",
      "[226]\tvalidation_0-logloss:0.08593\n",
      "[227]\tvalidation_0-logloss:0.08595\n",
      "[228]\tvalidation_0-logloss:0.08587\n",
      "[229]\tvalidation_0-logloss:0.08606\n",
      "[230]\tvalidation_0-logloss:0.08600\n",
      "[231]\tvalidation_0-logloss:0.08592\n",
      "[232]\tvalidation_0-logloss:0.08610\n",
      "[233]\tvalidation_0-logloss:0.08611\n",
      "[234]\tvalidation_0-logloss:0.08617\n",
      "[235]\tvalidation_0-logloss:0.08626\n",
      "[236]\tvalidation_0-logloss:0.08629\n",
      "[237]\tvalidation_0-logloss:0.08622\n",
      "[238]\tvalidation_0-logloss:0.08639\n",
      "[239]\tvalidation_0-logloss:0.08634\n",
      "[240]\tvalidation_0-logloss:0.08618\n",
      "[241]\tvalidation_0-logloss:0.08619\n",
      "[242]\tvalidation_0-logloss:0.08625\n",
      "[243]\tvalidation_0-logloss:0.08626\n",
      "[244]\tvalidation_0-logloss:0.08629\n",
      "[245]\tvalidation_0-logloss:0.08622\n",
      "[246]\tvalidation_0-logloss:0.08640\n",
      "[247]\tvalidation_0-logloss:0.08635\n",
      "[248]\tvalidation_0-logloss:0.08628\n",
      "[249]\tvalidation_0-logloss:0.08645\n",
      "[250]\tvalidation_0-logloss:0.08629\n",
      "[251]\tvalidation_0-logloss:0.08631\n",
      "[252]\tvalidation_0-logloss:0.08636\n",
      "[253]\tvalidation_0-logloss:0.08639\n",
      "[254]\tvalidation_0-logloss:0.08649\n",
      "[255]\tvalidation_0-logloss:0.08644\n",
      "[256]\tvalidation_0-logloss:0.08629\n",
      "[257]\tvalidation_0-logloss:0.08646\n",
      "[258]\tvalidation_0-logloss:0.08639\n",
      "[259]\tvalidation_0-logloss:0.08644\n",
      "[260]\tvalidation_0-logloss:0.08646\n",
      "[261]\tvalidation_0-logloss:0.08649\n",
      "[262]\tvalidation_0-logloss:0.08644\n",
      "[263]\tvalidation_0-logloss:0.08647\n",
      "[264]\tvalidation_0-logloss:0.08632\n",
      "[265]\tvalidation_0-logloss:0.08649\n",
      "[266]\tvalidation_0-logloss:0.08654\n",
      "[267]\tvalidation_0-logloss:0.08647\n",
      "[268]\tvalidation_0-logloss:0.08650\n",
      "[269]\tvalidation_0-logloss:0.08652\n",
      "[270]\tvalidation_0-logloss:0.08669\n",
      "[271]\tvalidation_0-logloss:0.08674\n",
      "[272]\tvalidation_0-logloss:0.08683\n",
      "[273]\tvalidation_0-logloss:0.08668\n",
      "[274]\tvalidation_0-logloss:0.08664\n",
      "[275]\tvalidation_0-logloss:0.08650\n",
      "[276]\tvalidation_0-logloss:0.08636\n",
      "[277]\tvalidation_0-logloss:0.08652\n",
      "[278]\tvalidation_0-logloss:0.08657\n",
      "[279]\tvalidation_0-logloss:0.08659\n",
      "[280]\tvalidation_0-logloss:0.08668\n",
      "[281]\tvalidation_0-logloss:0.08664\n",
      "[282]\tvalidation_0-logloss:0.08650\n",
      "[283]\tvalidation_0-logloss:0.08636\n",
      "[284]\tvalidation_0-logloss:0.08640\n",
      "[285]\tvalidation_0-logloss:0.08643\n",
      "[286]\tvalidation_0-logloss:0.08646\n",
      "[287]\tvalidation_0-logloss:0.08650\n",
      "[288]\tvalidation_0-logloss:0.08637\n",
      "[289]\tvalidation_0-logloss:0.08646\n",
      "[290]\tvalidation_0-logloss:0.08645\n",
      "[291]\tvalidation_0-logloss:0.08632\n",
      "[292]\tvalidation_0-logloss:0.08628\n",
      "[293]\tvalidation_0-logloss:0.08615\n",
      "[294]\tvalidation_0-logloss:0.08620\n",
      "[295]\tvalidation_0-logloss:0.08622\n",
      "[296]\tvalidation_0-logloss:0.08631\n",
      "[297]\tvalidation_0-logloss:0.08618\n",
      "[298]\tvalidation_0-logloss:0.08626\n",
      "[299]\tvalidation_0-logloss:0.08613\n",
      "[300]\tvalidation_0-logloss:0.08618\n",
      "[301]\tvalidation_0-logloss:0.08605\n",
      "[302]\tvalidation_0-logloss:0.08602\n",
      "[303]\tvalidation_0-logloss:0.08610\n",
      "[304]\tvalidation_0-logloss:0.08598\n",
      "[305]\tvalidation_0-logloss:0.08606\n",
      "[306]\tvalidation_0-logloss:0.08597\n",
      "[307]\tvalidation_0-logloss:0.08600\n",
      "[308]\tvalidation_0-logloss:0.08600\n",
      "[309]\tvalidation_0-logloss:0.08588\n",
      "[310]\tvalidation_0-logloss:0.08592\n",
      "[311]\tvalidation_0-logloss:0.08595\n",
      "오차행렬\n",
      "[[34  3]\n",
      " [ 1 76]]\n",
      "정확도:0.9649,정밀도:0.9620,재현율:0.9870,F1:0.9744,auc:0.9954\n"
     ]
    }
   ],
   "source": [
    "xgb_wrapper = XGBClassifier(n_estimators=400,\n",
    "                            learning_rate=0.1,\n",
    "                            max_depth=3)\n",
    "evals=[(X_test,y_test)]\n",
    "xgb_wrapper.fit(X_train,\n",
    "                y_train,\n",
    "                early_stopping_rounds=100,\n",
    "                eval_metric='logloss',\n",
    "                eval_set=evals,\n",
    "                verbose=True)\n",
    "w_preds = xgb_wrapper.predict(X_test)\n",
    "w_preds_proba =xgb_wrapper.predict_proba(X_test)[:,1]\n",
    "get_clf_eval(y_test,w_preds,w_preds_proba)"
   ]
  },
  {
   "cell_type": "code",
   "execution_count": 78,
   "id": "2334eb55-ab0b-4250-9c74-f8d88e6bb27d",
   "metadata": {
    "collapsed": true,
    "jupyter": {
     "outputs_hidden": true
    },
    "tags": []
   },
   "outputs": [
    {
     "name": "stdout",
     "output_type": "stream",
     "text": [
      "[0]\tvalidation_0-logloss:0.61352\n",
      "[1]\tvalidation_0-logloss:0.54784\n",
      "[2]\tvalidation_0-logloss:0.49425\n",
      "[3]\tvalidation_0-logloss:0.44799\n",
      "[4]\tvalidation_0-logloss:0.40911\n",
      "[5]\tvalidation_0-logloss:0.37498\n",
      "[6]\tvalidation_0-logloss:0.34571\n",
      "[7]\tvalidation_0-logloss:0.32053\n",
      "[8]\tvalidation_0-logloss:0.29721\n",
      "[9]\tvalidation_0-logloss:0.27799\n",
      "[10]\tvalidation_0-logloss:0.26030\n",
      "[11]\tvalidation_0-logloss:0.24604\n",
      "[12]\tvalidation_0-logloss:0.23156\n",
      "[13]\tvalidation_0-logloss:0.22005\n",
      "[14]\tvalidation_0-logloss:0.20857\n",
      "[15]\tvalidation_0-logloss:0.19999\n",
      "[16]\tvalidation_0-logloss:0.19012\n",
      "[17]\tvalidation_0-logloss:0.18182\n",
      "[18]\tvalidation_0-logloss:0.17473\n",
      "[19]\tvalidation_0-logloss:0.16766\n",
      "[20]\tvalidation_0-logloss:0.15820\n",
      "[21]\tvalidation_0-logloss:0.15473\n",
      "[22]\tvalidation_0-logloss:0.14895\n",
      "[23]\tvalidation_0-logloss:0.14331\n",
      "[24]\tvalidation_0-logloss:0.13634\n",
      "[25]\tvalidation_0-logloss:0.13278\n",
      "[26]\tvalidation_0-logloss:0.12791\n",
      "[27]\tvalidation_0-logloss:0.12526\n",
      "[28]\tvalidation_0-logloss:0.11998\n",
      "[29]\tvalidation_0-logloss:0.11641\n",
      "[30]\tvalidation_0-logloss:0.11450\n",
      "[31]\tvalidation_0-logloss:0.11257\n",
      "[32]\tvalidation_0-logloss:0.11154\n",
      "[33]\tvalidation_0-logloss:0.10868\n",
      "[34]\tvalidation_0-logloss:0.10668\n",
      "[35]\tvalidation_0-logloss:0.10421\n",
      "[36]\tvalidation_0-logloss:0.10296\n",
      "[37]\tvalidation_0-logloss:0.10058\n",
      "[38]\tvalidation_0-logloss:0.09868\n",
      "[39]\tvalidation_0-logloss:0.09644\n",
      "[40]\tvalidation_0-logloss:0.09587\n",
      "[41]\tvalidation_0-logloss:0.09424\n",
      "[42]\tvalidation_0-logloss:0.09471\n",
      "[43]\tvalidation_0-logloss:0.09427\n",
      "[44]\tvalidation_0-logloss:0.09389\n",
      "[45]\tvalidation_0-logloss:0.09418\n",
      "[46]\tvalidation_0-logloss:0.09402\n",
      "[47]\tvalidation_0-logloss:0.09236\n",
      "[48]\tvalidation_0-logloss:0.09301\n",
      "[49]\tvalidation_0-logloss:0.09127\n",
      "[50]\tvalidation_0-logloss:0.09005\n",
      "[51]\tvalidation_0-logloss:0.08961\n",
      "[52]\tvalidation_0-logloss:0.08958\n",
      "[53]\tvalidation_0-logloss:0.09070\n",
      "[54]\tvalidation_0-logloss:0.08958\n",
      "[55]\tvalidation_0-logloss:0.09036\n",
      "[56]\tvalidation_0-logloss:0.09159\n",
      "[57]\tvalidation_0-logloss:0.09153\n",
      "[58]\tvalidation_0-logloss:0.09199\n",
      "[59]\tvalidation_0-logloss:0.09195\n",
      "[60]\tvalidation_0-logloss:0.09194\n",
      "[61]\tvalidation_0-logloss:0.09146\n",
      "오차행렬\n",
      "[[34  3]\n",
      " [ 2 75]]\n",
      "정확도:0.9561,정밀도:0.9615,재현율:0.9740,F1:0.9677,auc:0.9947\n"
     ]
    }
   ],
   "source": [
    "xgb_wrapper.fit(X_train,\n",
    "                y_train,\n",
    "                early_stopping_rounds=10,\n",
    "                eval_metric='logloss',\n",
    "                eval_set=evals,\n",
    "                verbose=True)\n",
    "ws10_preds = xgb_wrapper.predict(X_test)\n",
    "ws10_preds_proba =xgb_wrapper.predict_proba(X_test)[:,1]\n",
    "get_clf_eval(y_test,ws10_preds,ws10_preds_proba)"
   ]
  },
  {
   "cell_type": "code",
   "execution_count": null,
   "id": "8ec7f62f-a8d1-409c-84cf-f7644d24d315",
   "metadata": {},
   "outputs": [],
   "source": [
    "오차행렬\n",
    "[[34  3]\n",
    " [ 1 76]]\n",
    "정확도:0.9649,정밀도:0.9620,재현율:0.9870,F1:0.9744,auc:0.9954"
   ]
  }
 ],
 "metadata": {
  "kernelspec": {
   "display_name": "Python 3 (ipykernel)",
   "language": "python",
   "name": "python3"
  },
  "language_info": {
   "codemirror_mode": {
    "name": "ipython",
    "version": 3
   },
   "file_extension": ".py",
   "mimetype": "text/x-python",
   "name": "python",
   "nbconvert_exporter": "python",
   "pygments_lexer": "ipython3",
   "version": "3.9.7"
  }
 },
 "nbformat": 4,
 "nbformat_minor": 5
}
