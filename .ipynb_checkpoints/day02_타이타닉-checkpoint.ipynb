{
 "cells": [
  {
   "cell_type": "markdown",
   "id": "93467d7f-6ba3-4026-883c-57bbfec2f48d",
   "metadata": {},
   "source": [
    "### 타이타닉"
   ]
  },
  {
   "cell_type": "code",
   "execution_count": 1,
   "id": "5ab54cf8-6a94-4107-add1-6162eae07895",
   "metadata": {},
   "outputs": [],
   "source": [
    "import numpy as np\n",
    "import pandas as pd\n",
    "import matplotlib.pyplot as plt\n",
    "import seaborn as sns"
   ]
  },
  {
   "cell_type": "code",
   "execution_count": 2,
   "id": "1bcafa32-d9ab-437d-b4e3-f318e6414162",
   "metadata": {},
   "outputs": [
    {
     "data": {
      "text/html": [
       "<div>\n",
       "<style scoped>\n",
       "    .dataframe tbody tr th:only-of-type {\n",
       "        vertical-align: middle;\n",
       "    }\n",
       "\n",
       "    .dataframe tbody tr th {\n",
       "        vertical-align: top;\n",
       "    }\n",
       "\n",
       "    .dataframe thead th {\n",
       "        text-align: right;\n",
       "    }\n",
       "</style>\n",
       "<table border=\"1\" class=\"dataframe\">\n",
       "  <thead>\n",
       "    <tr style=\"text-align: right;\">\n",
       "      <th></th>\n",
       "      <th>PassengerId</th>\n",
       "      <th>Survived</th>\n",
       "      <th>Pclass</th>\n",
       "      <th>Name</th>\n",
       "      <th>Sex</th>\n",
       "      <th>Age</th>\n",
       "      <th>SibSp</th>\n",
       "      <th>Parch</th>\n",
       "      <th>Ticket</th>\n",
       "      <th>Fare</th>\n",
       "      <th>Cabin</th>\n",
       "      <th>Embarked</th>\n",
       "    </tr>\n",
       "  </thead>\n",
       "  <tbody>\n",
       "    <tr>\n",
       "      <th>0</th>\n",
       "      <td>1</td>\n",
       "      <td>0</td>\n",
       "      <td>3</td>\n",
       "      <td>Braund, Mr. Owen Harris</td>\n",
       "      <td>male</td>\n",
       "      <td>22.0</td>\n",
       "      <td>1</td>\n",
       "      <td>0</td>\n",
       "      <td>A/5 21171</td>\n",
       "      <td>7.2500</td>\n",
       "      <td>NaN</td>\n",
       "      <td>S</td>\n",
       "    </tr>\n",
       "    <tr>\n",
       "      <th>1</th>\n",
       "      <td>2</td>\n",
       "      <td>1</td>\n",
       "      <td>1</td>\n",
       "      <td>Cumings, Mrs. John Bradley (Florence Briggs Th...</td>\n",
       "      <td>female</td>\n",
       "      <td>38.0</td>\n",
       "      <td>1</td>\n",
       "      <td>0</td>\n",
       "      <td>PC 17599</td>\n",
       "      <td>71.2833</td>\n",
       "      <td>C85</td>\n",
       "      <td>C</td>\n",
       "    </tr>\n",
       "  </tbody>\n",
       "</table>\n",
       "</div>"
      ],
      "text/plain": [
       "   PassengerId  Survived  Pclass  \\\n",
       "0            1         0       3   \n",
       "1            2         1       1   \n",
       "\n",
       "                                                Name     Sex   Age  SibSp  \\\n",
       "0                            Braund, Mr. Owen Harris    male  22.0      1   \n",
       "1  Cumings, Mrs. John Bradley (Florence Briggs Th...  female  38.0      1   \n",
       "\n",
       "   Parch     Ticket     Fare Cabin Embarked  \n",
       "0      0  A/5 21171   7.2500   NaN        S  \n",
       "1      0   PC 17599  71.2833   C85        C  "
      ]
     },
     "execution_count": 2,
     "metadata": {},
     "output_type": "execute_result"
    }
   ],
   "source": [
    "titanic_df = pd.read_csv('titanic_train.csv')\n",
    "titanic_df.head(2)"
   ]
  },
  {
   "cell_type": "code",
   "execution_count": 3,
   "id": "a2a715a2-138b-4c15-8eb4-811a079973a6",
   "metadata": {},
   "outputs": [
    {
     "name": "stdout",
     "output_type": "stream",
     "text": [
      "<class 'pandas.core.frame.DataFrame'>\n",
      "RangeIndex: 891 entries, 0 to 890\n",
      "Data columns (total 12 columns):\n",
      " #   Column       Non-Null Count  Dtype  \n",
      "---  ------       --------------  -----  \n",
      " 0   PassengerId  891 non-null    int64  \n",
      " 1   Survived     891 non-null    int64  \n",
      " 2   Pclass       891 non-null    int64  \n",
      " 3   Name         891 non-null    object \n",
      " 4   Sex          891 non-null    object \n",
      " 5   Age          714 non-null    float64\n",
      " 6   SibSp        891 non-null    int64  \n",
      " 7   Parch        891 non-null    int64  \n",
      " 8   Ticket       891 non-null    object \n",
      " 9   Fare         891 non-null    float64\n",
      " 10  Cabin        204 non-null    object \n",
      " 11  Embarked     889 non-null    object \n",
      "dtypes: float64(2), int64(5), object(5)\n",
      "memory usage: 83.7+ KB\n"
     ]
    }
   ],
   "source": [
    "titanic_df.info()"
   ]
  },
  {
   "cell_type": "code",
   "execution_count": 4,
   "id": "958b390a-1c3f-4f13-9b4e-bf6cfdc629f7",
   "metadata": {},
   "outputs": [],
   "source": [
    "titanic_df['Age'].fillna(titanic_df['Age'].mean(),inplace=True)\n",
    "titanic_df['Cabin'].fillna('N',inplace=True)\n",
    "titanic_df['Embarked'].fillna('N',inplace=True)"
   ]
  },
  {
   "cell_type": "code",
   "execution_count": 5,
   "id": "a90f2a4b-5c79-4ddf-85e3-d78aebade72b",
   "metadata": {},
   "outputs": [
    {
     "data": {
      "text/plain": [
       "PassengerId    0\n",
       "Survived       0\n",
       "Pclass         0\n",
       "Name           0\n",
       "Sex            0\n",
       "Age            0\n",
       "SibSp          0\n",
       "Parch          0\n",
       "Ticket         0\n",
       "Fare           0\n",
       "Cabin          0\n",
       "Embarked       0\n",
       "dtype: int64"
      ]
     },
     "execution_count": 5,
     "metadata": {},
     "output_type": "execute_result"
    }
   ],
   "source": [
    "titanic_df.isnull().sum()"
   ]
  },
  {
   "cell_type": "code",
   "execution_count": 6,
   "id": "f1a2f023-03d2-4c4b-a469-64b5b695c9ab",
   "metadata": {},
   "outputs": [
    {
     "data": {
      "text/plain": [
       "male      577\n",
       "female    314\n",
       "Name: Sex, dtype: int64"
      ]
     },
     "execution_count": 6,
     "metadata": {},
     "output_type": "execute_result"
    }
   ],
   "source": [
    "titanic_df.Sex.value_counts()"
   ]
  },
  {
   "cell_type": "code",
   "execution_count": 7,
   "id": "6d008b00-766b-4912-8252-f7fddd3a0736",
   "metadata": {},
   "outputs": [
    {
     "data": {
      "text/plain": [
       "N              687\n",
       "C23 C25 C27      4\n",
       "G6               4\n",
       "B96 B98          4\n",
       "C22 C26          3\n",
       "              ... \n",
       "E34              1\n",
       "C7               1\n",
       "C54              1\n",
       "E36              1\n",
       "C148             1\n",
       "Name: Cabin, Length: 148, dtype: int64"
      ]
     },
     "execution_count": 7,
     "metadata": {},
     "output_type": "execute_result"
    }
   ],
   "source": [
    "titanic_df.Cabin.value_counts()"
   ]
  },
  {
   "cell_type": "code",
   "execution_count": 8,
   "id": "b6479f2a-92d0-4e80-9195-39eab287bd16",
   "metadata": {},
   "outputs": [
    {
     "data": {
      "text/plain": [
       "S    644\n",
       "C    168\n",
       "Q     77\n",
       "N      2\n",
       "Name: Embarked, dtype: int64"
      ]
     },
     "execution_count": 8,
     "metadata": {},
     "output_type": "execute_result"
    }
   ],
   "source": [
    "titanic_df.Embarked.value_counts()"
   ]
  },
  {
   "cell_type": "code",
   "execution_count": 9,
   "id": "abf1c15d-f9ba-4fb3-932b-3c40d1d6d1f0",
   "metadata": {},
   "outputs": [],
   "source": [
    "titanic_df.Cabin = titanic_df.Cabin.str[:1]"
   ]
  },
  {
   "cell_type": "code",
   "execution_count": 10,
   "id": "94ca6f6b-d8f6-4093-9356-fe919e8c62c6",
   "metadata": {},
   "outputs": [
    {
     "data": {
      "text/plain": [
       "0    N\n",
       "1    C\n",
       "2    N\n",
       "Name: Cabin, dtype: object"
      ]
     },
     "execution_count": 10,
     "metadata": {},
     "output_type": "execute_result"
    }
   ],
   "source": [
    "titanic_df.Cabin.head(3)"
   ]
  },
  {
   "cell_type": "code",
   "execution_count": 11,
   "id": "ab58b72a-3628-4f79-aeab-31a2f0749537",
   "metadata": {},
   "outputs": [
    {
     "data": {
      "text/plain": [
       "Sex     Survived\n",
       "female  0            81\n",
       "        1           233\n",
       "male    0           468\n",
       "        1           109\n",
       "Name: Survived, dtype: int64"
      ]
     },
     "execution_count": 11,
     "metadata": {},
     "output_type": "execute_result"
    }
   ],
   "source": [
    "titanic_df.groupby(['Sex','Survived'])['Survived'].count()"
   ]
  },
  {
   "cell_type": "code",
   "execution_count": 12,
   "id": "3e612a98-5301-43c8-b75a-704639663575",
   "metadata": {},
   "outputs": [
    {
     "data": {
      "text/plain": [
       "<AxesSubplot:xlabel='Sex', ylabel='Survived'>"
      ]
     },
     "execution_count": 12,
     "metadata": {},
     "output_type": "execute_result"
    },
    {
     "data": {
      "image/png": "[encoded data removed]",
      "text/plain": [
       "<Figure size 432x288 with 1 Axes>"
      ]
     },
     "metadata": {
      "needs_background": "light"
     },
     "output_type": "display_data"
    }
   ],
   "source": [
    "sns.barplot(x='Sex',y='Survived',data=titanic_df)"
   ]
  },
  {
   "cell_type": "code",
   "execution_count": 13,
   "id": "6ce5914c-0e0b-4c26-ac77-2bcae0ae7b3c",
   "metadata": {},
   "outputs": [
    {
     "data": {
      "text/plain": [
       "<AxesSubplot:xlabel='Pclass', ylabel='Survived'>"
      ]
     },
     "execution_count": 13,
     "metadata": {},
     "output_type": "execute_result"
    },
    {
     "data": {
      "image/png": "[encoded data removed]",
      "text/plain": [
       "<Figure size 432x288 with 1 Axes>"
      ]
     },
     "metadata": {
      "needs_background": "light"
     },
     "output_type": "display_data"
    }
   ],
   "source": [
    "sns.barplot(x='Pclass',y='Survived', hue='Sex',data=titanic_df)"
   ]
  },
  {
   "cell_type": "code",
   "execution_count": 14,
   "id": "6178b5d4-f3e1-426b-9616-f24eb522a580",
   "metadata": {},
   "outputs": [],
   "source": [
    "def get_category(age):\n",
    "    cat=''\n",
    "    if age <= -1: cat='Unknown'\n",
    "    elif age <= 5: cat='Baby'\n",
    "    elif age <= 12: cat='Child'\n",
    "    elif age <= 18: cat='Teenager'\n",
    "    elif age <= 25: cat='Student'\n",
    "    elif age <= 35: cat='Young Adult'\n",
    "    elif age <= 60: cat='Adult'\n",
    "    else: cat='Elderly'\n",
    "    return cat"
   ]
  },
  {
   "cell_type": "code",
   "execution_count": 15,
   "id": "3fbd0ebd-31af-4ec6-85a3-713a19388e47",
   "metadata": {
    "tags": []
   },
   "outputs": [
    {
     "data": {
      "image/png": "[encoded data removed]",
      "text/plain": [
       "<Figure size 720x432 with 1 Axes>"
      ]
     },
     "metadata": {
      "needs_background": "light"
     },
     "output_type": "display_data"
    }
   ],
   "source": [
    "plt.figure(figsize=(10,6))\n",
    "group_names=['Unknown','Baby','Child','Teenager','Student','Young Adult','Adult','Elderly']\n",
    "titanic_df['Age_cat'] = titanic_df['Age'].apply(lambda x:get_category(x))\n",
    "sns.barplot(x='Age_cat',y='Survived',hue='Sex',data=titanic_df,order=group_names)\n",
    "titanic_df.drop(columns='Age_cat',inplace=True)"
   ]
  },
  {
   "cell_type": "code",
   "execution_count": 16,
   "id": "5140177a-916c-4f80-8592-04fea8e635fd",
   "metadata": {},
   "outputs": [],
   "source": [
    "def encode_features(dataDF):\n",
    "    from sklearn.preprocessing import LabelEncoder\n",
    "    features = ['Cabin','Sex','Embarked']\n",
    "    for feature in features:\n",
    "        dataDF[feature] = LabelEncoder().fit_transform(dataDF[feature])\n",
    "    return dataDF        "
   ]
  },
  {
   "cell_type": "code",
   "execution_count": 17,
   "id": "72829f26-e23b-4944-b74a-0eef4de97077",
   "metadata": {},
   "outputs": [
    {
     "data": {
      "text/html": [
       "<div>\n",
       "<style scoped>\n",
       "    .dataframe tbody tr th:only-of-type {\n",
       "        vertical-align: middle;\n",
       "    }\n",
       "\n",
       "    .dataframe tbody tr th {\n",
       "        vertical-align: top;\n",
       "    }\n",
       "\n",
       "    .dataframe thead th {\n",
       "        text-align: right;\n",
       "    }\n",
       "</style>\n",
       "<table border=\"1\" class=\"dataframe\">\n",
       "  <thead>\n",
       "    <tr style=\"text-align: right;\">\n",
       "      <th></th>\n",
       "      <th>PassengerId</th>\n",
       "      <th>Survived</th>\n",
       "      <th>Pclass</th>\n",
       "      <th>Name</th>\n",
       "      <th>Sex</th>\n",
       "      <th>Age</th>\n",
       "      <th>SibSp</th>\n",
       "      <th>Parch</th>\n",
       "      <th>Ticket</th>\n",
       "      <th>Fare</th>\n",
       "      <th>Cabin</th>\n",
       "      <th>Embarked</th>\n",
       "    </tr>\n",
       "  </thead>\n",
       "  <tbody>\n",
       "    <tr>\n",
       "      <th>0</th>\n",
       "      <td>1</td>\n",
       "      <td>0</td>\n",
       "      <td>3</td>\n",
       "      <td>Braund, Mr. Owen Harris</td>\n",
       "      <td>1</td>\n",
       "      <td>22.0</td>\n",
       "      <td>1</td>\n",
       "      <td>0</td>\n",
       "      <td>A/5 21171</td>\n",
       "      <td>7.2500</td>\n",
       "      <td>7</td>\n",
       "      <td>3</td>\n",
       "    </tr>\n",
       "    <tr>\n",
       "      <th>1</th>\n",
       "      <td>2</td>\n",
       "      <td>1</td>\n",
       "      <td>1</td>\n",
       "      <td>Cumings, Mrs. John Bradley (Florence Briggs Th...</td>\n",
       "      <td>0</td>\n",
       "      <td>38.0</td>\n",
       "      <td>1</td>\n",
       "      <td>0</td>\n",
       "      <td>PC 17599</td>\n",
       "      <td>71.2833</td>\n",
       "      <td>2</td>\n",
       "      <td>0</td>\n",
       "    </tr>\n",
       "  </tbody>\n",
       "</table>\n",
       "</div>"
      ],
      "text/plain": [
       "   PassengerId  Survived  Pclass  \\\n",
       "0            1         0       3   \n",
       "1            2         1       1   \n",
       "\n",
       "                                                Name  Sex   Age  SibSp  Parch  \\\n",
       "0                            Braund, Mr. Owen Harris    1  22.0      1      0   \n",
       "1  Cumings, Mrs. John Bradley (Florence Briggs Th...    0  38.0      1      0   \n",
       "\n",
       "      Ticket     Fare  Cabin  Embarked  \n",
       "0  A/5 21171   7.2500      7         3  \n",
       "1   PC 17599  71.2833      2         0  "
      ]
     },
     "execution_count": 17,
     "metadata": {},
     "output_type": "execute_result"
    }
   ],
   "source": [
    "titanic_df = encode_features(titanic_df)\n",
    "titanic_df.head(2)"
   ]
  },
  {
   "cell_type": "code",
   "execution_count": 18,
   "id": "d69e7c07-1d26-48a8-98bf-4f6c3da19fd4",
   "metadata": {},
   "outputs": [],
   "source": [
    "def fillna(df):\n",
    "    df['Age'].fillna(df['Age'].mean(),inplace=True)\n",
    "    df['Cabin'].fillna('N',inplace=True)\n",
    "    df['Embarked'].fillna('N',inplace=True)\n",
    "    df['Fare'].fillna(0,inplace=True)\n",
    "    return df\n",
    "\n",
    "def drop_features(df):\n",
    "    df.drop(columns=['PassengerId','Name','Ticket'],inplace=True)\n",
    "    return df\n",
    "\n",
    "def format_features(df):\n",
    "    from sklearn.preprocessing import LabelEncoder\n",
    "    df.Cabin = df.Cabin.str[:1]\n",
    "    features = ['Cabin','Sex','Embarked']\n",
    "    for feature in features:\n",
    "        df[feature] = LabelEncoder().fit_transform(df[feature])\n",
    "    return df     \n",
    "\n",
    "def transform_feafures(df):\n",
    "    df = fillna(df)\n",
    "    df = drop_features(df)\n",
    "    df = format_features(df)\n",
    "    return df    "
   ]
  },
  {
   "cell_type": "code",
   "execution_count": 19,
   "id": "34f8a713-57c7-4c00-bfaf-af12d810690c",
   "metadata": {},
   "outputs": [],
   "source": [
    "titanic_df = pd.read_csv('titanic_train.csv')\n",
    "y_titanic_df = titanic_df['Survived']\n",
    "X_titanic_df = titanic_df.drop(columns=['Survived'])\n",
    "X_titanic_df = transform_feafures(X_titanic_df)"
   ]
  },
  {
   "cell_type": "code",
   "execution_count": 20,
   "id": "1ee97979-b103-4cce-bf40-e840906890ce",
   "metadata": {},
   "outputs": [],
   "source": [
    "from sklearn.model_selection import train_test_split"
   ]
  },
  {
   "cell_type": "code",
   "execution_count": 21,
   "id": "488297a3-09ee-4410-a1af-65f53ce78076",
   "metadata": {},
   "outputs": [],
   "source": [
    "X_train,X_test,y_train,y_test = train_test_split(X_titanic_df,\n",
    "                                                 y_titanic_df,\n",
    "                                                 test_size=0.2,\n",
    "                                                 random_state=11)"
   ]
  },
  {
   "cell_type": "code",
   "execution_count": 22,
   "id": "d53633b1-ea48-43bf-be9a-414dedef95c7",
   "metadata": {},
   "outputs": [],
   "source": [
    "from sklearn.tree import DecisionTreeClassifier\n",
    "from sklearn.ensemble import RandomForestClassifier\n",
    "from sklearn.linear_model import LogisticRegression\n",
    "from sklearn.metrics import accuracy_score"
   ]
  },
  {
   "cell_type": "code",
   "execution_count": 34,
   "id": "c75ad8b4-39d4-48a6-9fb3-7323c160140d",
   "metadata": {},
   "outputs": [],
   "source": [
    "dt_clf = DecisionTreeClassifier(random_state=11)\n",
    "rf_clf = RandomForestClassifier(random_state=11)\n",
    "lr_clf = LogisticRegression()"
   ]
  },
  {
   "cell_type": "code",
   "execution_count": 35,
   "id": "c60bb30b-6589-4131-afbf-23c5761502dd",
   "metadata": {
    "tags": []
   },
   "outputs": [
    {
     "name": "stderr",
     "output_type": "stream",
     "text": [
      "C:\\Users\\seonjo\\Anaconda3\\lib\\site-packages\\sklearn\\linear_model\\_logistic.py:763: ConvergenceWarning: lbfgs failed to converge (status=1):\n",
      "STOP: TOTAL NO. of ITERATIONS REACHED LIMIT.\n",
      "\n",
      "Increase the number of iterations (max_iter) or scale the data as shown in:\n",
      "    https://scikit-learn.org/stable/modules/preprocessing.html\n",
      "Please also refer to the documentation for alternative solver options:\n",
      "    https://scikit-learn.org/stable/modules/linear_model.html#logistic-regression\n",
      "  n_iter_i = _check_optimize_result(\n"
     ]
    },
    {
     "data": {
      "text/plain": [
       "LogisticRegression()"
      ]
     },
     "execution_count": 35,
     "metadata": {},
     "output_type": "execute_result"
    }
   ],
   "source": [
    "dt_clf.fit(X_train,y_train)\n",
    "rf_clf.fit(X_train,y_train)\n",
    "lr_clf.fit(X_train,y_train)"
   ]
  },
  {
   "cell_type": "code",
   "execution_count": 36,
   "id": "e429d69e-06da-4c24-9f31-7e2267d381ea",
   "metadata": {},
   "outputs": [],
   "source": [
    "dt_pred = dt_clf.predict(X_test)\n",
    "rf_pred = rf_clf.predict(X_test)\n",
    "lr_pred = lr_clf.predict(X_test)"
   ]
  },
  {
   "cell_type": "code",
   "execution_count": 37,
   "id": "d7631d68-7a10-4271-b298-e7c3d0113a9d",
   "metadata": {},
   "outputs": [
    {
     "name": "stdout",
     "output_type": "stream",
     "text": [
      "dt 0.7877094972067039\n",
      "rf 0.8547486033519553\n",
      "lr 0.8491620111731844\n"
     ]
    }
   ],
   "source": [
    "print('dt',accuracy_score(y_test,dt_pred))\n",
    "print('rf',accuracy_score(y_test,rf_pred))\n",
    "print('lr',accuracy_score(y_test,lr_pred))"
   ]
  },
  {
   "cell_type": "code",
   "execution_count": 38,
   "id": "d4db3a91-3169-47a6-8d60-59ecdb1dcaac",
   "metadata": {},
   "outputs": [],
   "source": [
    "from sklearn.model_selection import KFold"
   ]
  },
  {
   "cell_type": "code",
   "execution_count": 43,
   "id": "b82cc88b-1452-42be-8486-b1d07c99ec0a",
   "metadata": {},
   "outputs": [],
   "source": [
    "import warnings\n",
    "warnings.filterwarnings('ignore')"
   ]
  },
  {
   "cell_type": "code",
   "execution_count": 52,
   "id": "23ef3e99-fccc-4644-83e3-e57eb01e1394",
   "metadata": {},
   "outputs": [],
   "source": [
    "def exec_kfold(clf,folds=5):\n",
    "    kfold = KFold(n_splits=folds,shuffle=True)\n",
    "    scores=[]\n",
    "    for iter_count,(train_index,test_index) in enumerate(kfold.split(X_titanic_df)):\n",
    "        X_train,X_test = X_titanic_df.values[train_index],X_titanic_df.values[test_index]\n",
    "        y_train,y_test = y_titanic_df.values[train_index],y_titanic_df.values[test_index]\n",
    "        clf.fit(X_train,y_train)\n",
    "        pred = clf.predict(X_test)\n",
    "        accuracy = accuracy_score(y_test,pred)\n",
    "        scores.append(accuracy)\n",
    "        print(f'교차검증 {iter_count} 정확도:{accuracy:.4f}')\n",
    "    mean_score = np.mean(scores)\n",
    "    print(f'평균 정확도:{mean_score:.4f}')"
   ]
  },
  {
   "cell_type": "code",
   "execution_count": 75,
   "id": "f4ae2378-b7b8-4bab-8b60-638691b8e547",
   "metadata": {
    "tags": []
   },
   "outputs": [
    {
     "name": "stdout",
     "output_type": "stream",
     "text": [
      "교차검증 0 정확도:0.8212\n",
      "교차검증 1 정확도:0.7809\n",
      "교차검증 2 정확도:0.7809\n",
      "교차검증 3 정확도:0.7135\n",
      "교차검증 4 정확도:0.7921\n",
      "평균 정확도:0.7777\n"
     ]
    }
   ],
   "source": [
    "exec_kfold(dt_clf) #dt 0.7877094972067039\n",
    "# 교차검증 0 정확도:0.7542\n",
    "# 교차검증 1 정확도:0.7809\n",
    "# 교차검증 2 정확도:0.7865\n",
    "# 교차검증 3 정확도:0.7697\n",
    "# 교차검증 4 정확도:0.8202\n",
    "# 평균 정확도:0.7823"
   ]
  },
  {
   "cell_type": "code",
   "execution_count": 54,
   "id": "a2925bd7-397b-4975-b955-1112e0a50d51",
   "metadata": {
    "tags": []
   },
   "outputs": [
    {
     "name": "stdout",
     "output_type": "stream",
     "text": [
      "교차검증 0 정확도:0.8045\n",
      "교차검증 1 정확도:0.7809\n",
      "교차검증 2 정확도:0.7697\n",
      "교차검증 3 정확도:0.8652\n",
      "교차검증 4 정확도:0.7978\n",
      "평균 정확도:0.8036\n"
     ]
    }
   ],
   "source": [
    "exec_kfold(rf_clf) #rf 0.8547486033519553\n",
    "# 교차검증 0 정확도:0.7933\n",
    "# 교차검증 1 정확도:0.8090\n",
    "# 교차검증 2 정확도:0.8371\n",
    "# 교차검증 3 정확도:0.7753\n",
    "# 교차검증 4 정확도:0.8596\n",
    "# 평균 정확도:0.8148"
   ]
  },
  {
   "cell_type": "code",
   "execution_count": 55,
   "id": "daf4b556-4923-4630-9d28-7e44bef22101",
   "metadata": {
    "tags": []
   },
   "outputs": [
    {
     "name": "stdout",
     "output_type": "stream",
     "text": [
      "교차검증 0 정확도:0.7989\n",
      "교차검증 1 정확도:0.7809\n",
      "교차검증 2 정확도:0.8034\n",
      "교차검증 3 정확도:0.7584\n",
      "교차검증 4 정확도:0.8090\n",
      "평균 정확도:0.7901\n"
     ]
    }
   ],
   "source": [
    "exec_kfold(lr_clf) #lr 0.8491620111731844\n",
    "# 교차검증 0 정확도:0.8045\n",
    "# 교차검증 1 정확도:0.7809\n",
    "# 교차검증 2 정확도:0.7753\n",
    "# 교차검증 3 정확도:0.7584\n",
    "# 교차검증 4 정확도:0.8146\n",
    "# 평균 정확도:0.7867"
   ]
  },
  {
   "cell_type": "code",
   "execution_count": 48,
   "id": "70a2f4ba-693c-4560-a799-98b026f3639e",
   "metadata": {},
   "outputs": [],
   "source": [
    "from sklearn.model_selection import cross_val_score"
   ]
  },
  {
   "cell_type": "code",
   "execution_count": 76,
   "id": "a1be8cde-a402-4ffd-8331-6089188f09b4",
   "metadata": {},
   "outputs": [
    {
     "name": "stdout",
     "output_type": "stream",
     "text": [
      "교차검증 0 정확도 : 0.7430\n",
      "교차검증 1 정확도 : 0.7753\n",
      "교차검증 2 정확도 : 0.7921\n",
      "교차검증 3 정확도 : 0.7865\n",
      "교차검증 4 정확도 : 0.8427\n",
      "평균정확도:0.7879\n"
     ]
    }
   ],
   "source": [
    "scores = cross_val_score(dt_clf,X_titanic_df,y_titanic_df,cv=5)\n",
    "for iter_count,accuracy in enumerate(scores):\n",
    "    print(f'교차검증 {iter_count} 정확도 : {accuracy:.4f}')\n",
    "print(f'평균정확도:{np.mean(scores):.4f}')    "
   ]
  },
  {
   "cell_type": "code",
   "execution_count": 77,
   "id": "6f30a478-c2b4-4eed-900f-cb7947325643",
   "metadata": {},
   "outputs": [
    {
     "name": "stdout",
     "output_type": "stream",
     "text": [
      "교차검증 0 정확도 : 0.7933\n",
      "교차검증 1 정확도 : 0.7978\n",
      "교차검증 2 정확도 : 0.8483\n",
      "교차검증 3 정확도 : 0.7640\n",
      "교차검증 4 정확도 : 0.8652\n",
      "평균정확도:0.8137\n"
     ]
    }
   ],
   "source": [
    "scores = cross_val_score(rf_clf,X_titanic_df,y_titanic_df,cv=5)\n",
    "for iter_count,accuracy in enumerate(scores):\n",
    "    print(f'교차검증 {iter_count} 정확도 : {accuracy:.4f}')\n",
    "print(f'평균정확도:{np.mean(scores):.4f}')    "
   ]
  },
  {
   "cell_type": "code",
   "execution_count": 78,
   "id": "c07b1a57-075a-457d-a1e6-485b9bdb5185",
   "metadata": {},
   "outputs": [
    {
     "name": "stdout",
     "output_type": "stream",
     "text": [
      "교차검증 0 정확도 : 0.7989\n",
      "교차검증 1 정확도 : 0.7697\n",
      "교차검증 2 정확도 : 0.7809\n",
      "교차검증 3 정확도 : 0.7753\n",
      "교차검증 4 정확도 : 0.8034\n",
      "평균정확도:0.7856\n"
     ]
    }
   ],
   "source": [
    "scores = cross_val_score(lr_clf,X_titanic_df,y_titanic_df,cv=5)\n",
    "for iter_count,accuracy in enumerate(scores):\n",
    "    print(f'교차검증 {iter_count} 정확도 : {accuracy:.4f}')\n",
    "print(f'평균정확도:{np.mean(scores):.4f}')   "
   ]
  },
  {
   "cell_type": "code",
   "execution_count": 79,
   "id": "70c635cb-43fe-4221-a036-5245e6d01791",
   "metadata": {},
   "outputs": [],
   "source": [
    "from sklearn.model_selection import GridSearchCV"
   ]
  },
  {
   "cell_type": "code",
   "execution_count": 81,
   "id": "2b533916-538a-4c7c-9993-c05a226e8fed",
   "metadata": {},
   "outputs": [],
   "source": [
    "parameters = {\n",
    "    'max_depth':[2,3,5,10],\n",
    "    'min_samples_split':[2,3,5],\n",
    "    'min_samples_leaf':[1,5,8]\n",
    "}"
   ]
  },
  {
   "cell_type": "code",
   "execution_count": 82,
   "id": "24502002-7314-41a0-975d-dcd532b8490b",
   "metadata": {},
   "outputs": [
    {
     "data": {
      "text/plain": [
       "GridSearchCV(cv=5, estimator=DecisionTreeClassifier(random_state=11),\n",
       "             param_grid={'max_depth': [2, 3, 5, 10],\n",
       "                         'min_samples_leaf': [1, 5, 8],\n",
       "                         'min_samples_split': [2, 3, 5]},\n",
       "             scoring='accuracy')"
      ]
     },
     "execution_count": 82,
     "metadata": {},
     "output_type": "execute_result"
    }
   ],
   "source": [
    "grid_dclf = GridSearchCV(dt_clf,param_grid=parameters,scoring='accuracy',cv=5)\n",
    "grid_dclf.fit(X_train,y_train)"
   ]
  },
  {
   "cell_type": "code",
   "execution_count": 83,
   "id": "f62c63ae-d36b-4d98-8bcd-5a0980532174",
   "metadata": {
    "collapsed": true,
    "jupyter": {
     "outputs_hidden": true
    },
    "tags": []
   },
   "outputs": [
    {
     "data": {
      "text/plain": [
       "{'mean_fit_time': array([0.00325809, 0.00278296, 0.00431838, 0.00258656, 0.00358138,\n",
       "        0.00209804, 0.00226283, 0.0011898 , 0.00202608, 0.00180449,\n",
       "        0.00186057, 0.00199399, 0.00232539, 0.00253887, 0.00230808,\n",
       "        0.00270309, 0.00226603, 0.00192442, 0.0019105 , 0.00203133,\n",
       "        0.00185471, 0.00225224, 0.00208488, 0.00223098, 0.00184484,\n",
       "        0.00186024, 0.00217609, 0.00203128, 0.00248575, 0.00234046,\n",
       "        0.00298433, 0.00307369, 0.00252986, 0.00198288, 0.0021369 ,\n",
       "        0.00228109]),\n",
       " 'std_fit_time': array([9.25376063e-04, 8.87501952e-04, 8.36789797e-04, 3.53846503e-04,\n",
       "        1.32122734e-03, 8.35697626e-05, 3.36758289e-04, 3.05804023e-04,\n",
       "        5.16665922e-04, 4.00518820e-04, 4.43856189e-04, 7.72780194e-05,\n",
       "        4.26949793e-04, 6.29894692e-04, 2.56044744e-04, 6.06017250e-04,\n",
       "        4.25119959e-04, 4.93164081e-04, 4.54934022e-04, 2.91866918e-04,\n",
       "        4.32752811e-04, 3.54044818e-04, 1.69326050e-04, 2.51185151e-04,\n",
       "        2.18409086e-04, 4.96394504e-04, 3.81944700e-04, 2.51764529e-04,\n",
       "        7.97764256e-04, 3.58358102e-04, 3.96639855e-04, 7.17995403e-04,\n",
       "        3.58225070e-04, 2.50058580e-04, 2.72150204e-04, 4.22687850e-04]),\n",
       " 'mean_score_time': array([0.00141692, 0.00138121, 0.00214567, 0.00134678, 0.00168056,\n",
       "        0.00151901, 0.00111647, 0.0011023 , 0.00124488, 0.00135908,\n",
       "        0.00124187, 0.00107913, 0.00108542, 0.0011971 , 0.00108299,\n",
       "        0.00136952, 0.00111418, 0.00117984, 0.00125813, 0.00099554,\n",
       "        0.00087929, 0.00070958, 0.00115728, 0.00109921, 0.00108824,\n",
       "        0.00090327, 0.00115738, 0.00108471, 0.00136852, 0.00146532,\n",
       "        0.00138574, 0.00111618, 0.00104356, 0.00123878, 0.00128326,\n",
       "        0.00101752]),\n",
       " 'std_score_time': array([6.30014858e-04, 4.83757428e-04, 9.42462806e-04, 2.54821322e-04,\n",
       "        8.41331412e-04, 5.58287095e-04, 1.43194953e-04, 2.14241858e-04,\n",
       "        4.27215402e-04, 5.98995193e-04, 2.74569585e-04, 8.78243436e-05,\n",
       "        5.12502164e-04, 3.49232585e-04, 5.02309746e-04, 5.03187038e-04,\n",
       "        2.48756005e-04, 4.34714280e-04, 7.90441783e-04, 2.21361635e-04,\n",
       "        4.53012792e-04, 3.97109441e-04, 4.29395263e-04, 1.45441477e-04,\n",
       "        9.63706654e-06, 2.07764664e-04, 2.14944979e-04, 3.39847586e-04,\n",
       "        4.47858268e-04, 7.84921645e-04, 7.83489369e-04, 5.44913069e-04,\n",
       "        5.26709758e-05, 3.37884852e-04, 3.99893381e-04, 1.64425179e-05]),\n",
       " 'param_max_depth': masked_array(data=[2, 2, 2, 2, 2, 2, 2, 2, 2, 3, 3, 3, 3, 3, 3, 3, 3, 3,\n",
       "                    5, 5, 5, 5, 5, 5, 5, 5, 5, 10, 10, 10, 10, 10, 10, 10,\n",
       "                    10, 10],\n",
       "              mask=[False, False, False, False, False, False, False, False,\n",
       "                    False, False, False, False, False, False, False, False,\n",
       "                    False, False, False, False, False, False, False, False,\n",
       "                    False, False, False, False, False, False, False, False,\n",
       "                    False, False, False, False],\n",
       "        fill_value='?',\n",
       "             dtype=object),\n",
       " 'param_min_samples_leaf': masked_array(data=[1, 1, 1, 5, 5, 5, 8, 8, 8, 1, 1, 1, 5, 5, 5, 8, 8, 8,\n",
       "                    1, 1, 1, 5, 5, 5, 8, 8, 8, 1, 1, 1, 5, 5, 5, 8, 8, 8],\n",
       "              mask=[False, False, False, False, False, False, False, False,\n",
       "                    False, False, False, False, False, False, False, False,\n",
       "                    False, False, False, False, False, False, False, False,\n",
       "                    False, False, False, False, False, False, False, False,\n",
       "                    False, False, False, False],\n",
       "        fill_value='?',\n",
       "             dtype=object),\n",
       " 'param_min_samples_split': masked_array(data=[2, 3, 5, 2, 3, 5, 2, 3, 5, 2, 3, 5, 2, 3, 5, 2, 3, 5,\n",
       "                    2, 3, 5, 2, 3, 5, 2, 3, 5, 2, 3, 5, 2, 3, 5, 2, 3, 5],\n",
       "              mask=[False, False, False, False, False, False, False, False,\n",
       "                    False, False, False, False, False, False, False, False,\n",
       "                    False, False, False, False, False, False, False, False,\n",
       "                    False, False, False, False, False, False, False, False,\n",
       "                    False, False, False, False],\n",
       "        fill_value='?',\n",
       "             dtype=object),\n",
       " 'params': [{'max_depth': 2, 'min_samples_leaf': 1, 'min_samples_split': 2},\n",
       "  {'max_depth': 2, 'min_samples_leaf': 1, 'min_samples_split': 3},\n",
       "  {'max_depth': 2, 'min_samples_leaf': 1, 'min_samples_split': 5},\n",
       "  {'max_depth': 2, 'min_samples_leaf': 5, 'min_samples_split': 2},\n",
       "  {'max_depth': 2, 'min_samples_leaf': 5, 'min_samples_split': 3},\n",
       "  {'max_depth': 2, 'min_samples_leaf': 5, 'min_samples_split': 5},\n",
       "  {'max_depth': 2, 'min_samples_leaf': 8, 'min_samples_split': 2},\n",
       "  {'max_depth': 2, 'min_samples_leaf': 8, 'min_samples_split': 3},\n",
       "  {'max_depth': 2, 'min_samples_leaf': 8, 'min_samples_split': 5},\n",
       "  {'max_depth': 3, 'min_samples_leaf': 1, 'min_samples_split': 2},\n",
       "  {'max_depth': 3, 'min_samples_leaf': 1, 'min_samples_split': 3},\n",
       "  {'max_depth': 3, 'min_samples_leaf': 1, 'min_samples_split': 5},\n",
       "  {'max_depth': 3, 'min_samples_leaf': 5, 'min_samples_split': 2},\n",
       "  {'max_depth': 3, 'min_samples_leaf': 5, 'min_samples_split': 3},\n",
       "  {'max_depth': 3, 'min_samples_leaf': 5, 'min_samples_split': 5},\n",
       "  {'max_depth': 3, 'min_samples_leaf': 8, 'min_samples_split': 2},\n",
       "  {'max_depth': 3, 'min_samples_leaf': 8, 'min_samples_split': 3},\n",
       "  {'max_depth': 3, 'min_samples_leaf': 8, 'min_samples_split': 5},\n",
       "  {'max_depth': 5, 'min_samples_leaf': 1, 'min_samples_split': 2},\n",
       "  {'max_depth': 5, 'min_samples_leaf': 1, 'min_samples_split': 3},\n",
       "  {'max_depth': 5, 'min_samples_leaf': 1, 'min_samples_split': 5},\n",
       "  {'max_depth': 5, 'min_samples_leaf': 5, 'min_samples_split': 2},\n",
       "  {'max_depth': 5, 'min_samples_leaf': 5, 'min_samples_split': 3},\n",
       "  {'max_depth': 5, 'min_samples_leaf': 5, 'min_samples_split': 5},\n",
       "  {'max_depth': 5, 'min_samples_leaf': 8, 'min_samples_split': 2},\n",
       "  {'max_depth': 5, 'min_samples_leaf': 8, 'min_samples_split': 3},\n",
       "  {'max_depth': 5, 'min_samples_leaf': 8, 'min_samples_split': 5},\n",
       "  {'max_depth': 10, 'min_samples_leaf': 1, 'min_samples_split': 2},\n",
       "  {'max_depth': 10, 'min_samples_leaf': 1, 'min_samples_split': 3},\n",
       "  {'max_depth': 10, 'min_samples_leaf': 1, 'min_samples_split': 5},\n",
       "  {'max_depth': 10, 'min_samples_leaf': 5, 'min_samples_split': 2},\n",
       "  {'max_depth': 10, 'min_samples_leaf': 5, 'min_samples_split': 3},\n",
       "  {'max_depth': 10, 'min_samples_leaf': 5, 'min_samples_split': 5},\n",
       "  {'max_depth': 10, 'min_samples_leaf': 8, 'min_samples_split': 2},\n",
       "  {'max_depth': 10, 'min_samples_leaf': 8, 'min_samples_split': 3},\n",
       "  {'max_depth': 10, 'min_samples_leaf': 8, 'min_samples_split': 5}],\n",
       " 'split0_test_score': array([0.73426573, 0.73426573, 0.73426573, 0.73426573, 0.73426573,\n",
       "        0.73426573, 0.73426573, 0.73426573, 0.73426573, 0.79020979,\n",
       "        0.79020979, 0.79020979, 0.79020979, 0.79020979, 0.79020979,\n",
       "        0.79020979, 0.79020979, 0.79020979, 0.72727273, 0.72727273,\n",
       "        0.72727273, 0.72027972, 0.72027972, 0.72027972, 0.72727273,\n",
       "        0.72727273, 0.72727273, 0.76223776, 0.76223776, 0.76923077,\n",
       "        0.72727273, 0.72727273, 0.72727273, 0.74825175, 0.74825175,\n",
       "        0.74825175]),\n",
       " 'split1_test_score': array([0.76923077, 0.76923077, 0.76923077, 0.76923077, 0.76923077,\n",
       "        0.76923077, 0.76923077, 0.76923077, 0.76923077, 0.7972028 ,\n",
       "        0.7972028 , 0.7972028 , 0.79020979, 0.79020979, 0.79020979,\n",
       "        0.79020979, 0.79020979, 0.79020979, 0.78321678, 0.78321678,\n",
       "        0.77622378, 0.78321678, 0.78321678, 0.78321678, 0.8041958 ,\n",
       "        0.8041958 , 0.8041958 , 0.74125874, 0.73426573, 0.73426573,\n",
       "        0.72027972, 0.72027972, 0.72027972, 0.75524476, 0.75524476,\n",
       "        0.75524476]),\n",
       " 'split2_test_score': array([0.75352113, 0.75352113, 0.75352113, 0.75352113, 0.75352113,\n",
       "        0.75352113, 0.75352113, 0.75352113, 0.75352113, 0.83098592,\n",
       "        0.83098592, 0.83098592, 0.83098592, 0.83098592, 0.83098592,\n",
       "        0.82394366, 0.82394366, 0.82394366, 0.8028169 , 0.82394366,\n",
       "        0.83802817, 0.83802817, 0.83802817, 0.83802817, 0.82394366,\n",
       "        0.82394366, 0.82394366, 0.81690141, 0.81690141, 0.81690141,\n",
       "        0.83802817, 0.83802817, 0.83802817, 0.83802817, 0.83802817,\n",
       "        0.83802817]),\n",
       " 'split3_test_score': array([0.78873239, 0.78873239, 0.78873239, 0.78873239, 0.78873239,\n",
       "        0.78873239, 0.78873239, 0.78873239, 0.78873239, 0.8028169 ,\n",
       "        0.8028169 , 0.8028169 , 0.8028169 , 0.8028169 , 0.8028169 ,\n",
       "        0.8028169 , 0.8028169 , 0.8028169 , 0.8028169 , 0.8028169 ,\n",
       "        0.8028169 , 0.81690141, 0.81690141, 0.81690141, 0.81690141,\n",
       "        0.81690141, 0.81690141, 0.81690141, 0.83098592, 0.83098592,\n",
       "        0.85915493, 0.85915493, 0.85915493, 0.83098592, 0.83098592,\n",
       "        0.83098592]),\n",
       " 'split4_test_score': array([0.74647887, 0.74647887, 0.74647887, 0.74647887, 0.74647887,\n",
       "        0.74647887, 0.74647887, 0.74647887, 0.74647887, 0.77464789,\n",
       "        0.77464789, 0.77464789, 0.78169014, 0.78169014, 0.78169014,\n",
       "        0.73239437, 0.73239437, 0.73239437, 0.78873239, 0.78169014,\n",
       "        0.78169014, 0.78873239, 0.78873239, 0.78873239, 0.77464789,\n",
       "        0.77464789, 0.77464789, 0.74647887, 0.76760563, 0.76760563,\n",
       "        0.78873239, 0.78873239, 0.78873239, 0.77464789, 0.77464789,\n",
       "        0.77464789]),\n",
       " 'mean_test_score': array([0.75844578, 0.75844578, 0.75844578, 0.75844578, 0.75844578,\n",
       "        0.75844578, 0.75844578, 0.75844578, 0.75844578, 0.79917266,\n",
       "        0.79917266, 0.79917266, 0.79918251, 0.79918251, 0.79918251,\n",
       "        0.7879149 , 0.7879149 , 0.7879149 , 0.78097114, 0.78378804,\n",
       "        0.78520634, 0.7894317 , 0.7894317 , 0.7894317 , 0.7893923 ,\n",
       "        0.7893923 , 0.7893923 , 0.77675564, 0.78239929, 0.78379789,\n",
       "        0.78669359, 0.78669359, 0.78669359, 0.7894317 , 0.7894317 ,\n",
       "        0.7894317 ]),\n",
       " 'std_test_score': array([0.0188983 , 0.0188983 , 0.0188983 , 0.0188983 , 0.0188983 ,\n",
       "        0.0188983 , 0.0188983 , 0.0188983 , 0.0188983 , 0.01849887,\n",
       "        0.01849887, 0.01849887, 0.01727233, 0.01727233, 0.01727233,\n",
       "        0.030375  , 0.030375  , 0.030375  , 0.0279402 , 0.03216607,\n",
       "        0.0361929 , 0.03984297, 0.03984297, 0.03984297, 0.03534383,\n",
       "        0.03534383, 0.03534383, 0.0334988 , 0.03603675, 0.03535641,\n",
       "        0.05627021, 0.05627021, 0.05627021, 0.03787206, 0.03787206,\n",
       "        0.03787206]),\n",
       " 'rank_test_score': array([28, 28, 28, 28, 28, 28, 28, 28, 28,  4,  4,  4,  1,  1,  1, 16, 16,\n",
       "        16, 26, 24, 22,  7,  7,  7, 13, 13, 13, 27, 25, 23, 19, 19, 19,  7,\n",
       "         7,  7])}"
      ]
     },
     "execution_count": 83,
     "metadata": {},
     "output_type": "execute_result"
    }
   ],
   "source": [
    "grid_dclf.cv_results_"
   ]
  },
  {
   "cell_type": "code",
   "execution_count": 84,
   "id": "a2f81a00-f58c-4538-af48-c30eb5771184",
   "metadata": {},
   "outputs": [
    {
     "data": {
      "text/plain": [
       "{'max_depth': 3, 'min_samples_leaf': 5, 'min_samples_split': 2}"
      ]
     },
     "execution_count": 84,
     "metadata": {},
     "output_type": "execute_result"
    }
   ],
   "source": [
    "grid_dclf.best_params_"
   ]
  },
  {
   "cell_type": "code",
   "execution_count": 85,
   "id": "5e162ad9-13ac-4e8b-adeb-07f2b562af86",
   "metadata": {},
   "outputs": [
    {
     "data": {
      "text/plain": [
       "0.7991825076332119"
      ]
     },
     "execution_count": 85,
     "metadata": {},
     "output_type": "execute_result"
    }
   ],
   "source": [
    "grid_dclf.best_score_"
   ]
  },
  {
   "cell_type": "code",
   "execution_count": 86,
   "id": "65141a03-8fa8-403a-897e-bcf483fb1e68",
   "metadata": {},
   "outputs": [],
   "source": [
    "best_dclf = grid_dclf.best_estimator_"
   ]
  },
  {
   "cell_type": "code",
   "execution_count": 87,
   "id": "bd7a2257-8171-4dd1-806f-a6eb4dc21830",
   "metadata": {},
   "outputs": [],
   "source": [
    "dpred = best_dclf.predict(X_test)"
   ]
  },
  {
   "cell_type": "code",
   "execution_count": 88,
   "id": "185ec121-a9be-4490-98bc-1f112a27e74b",
   "metadata": {},
   "outputs": [
    {
     "data": {
      "text/plain": [
       "0.8715083798882681"
      ]
     },
     "execution_count": 88,
     "metadata": {},
     "output_type": "execute_result"
    }
   ],
   "source": [
    "accuracy_score(y_test,dpred)"
   ]
  },
  {
   "cell_type": "code",
   "execution_count": null,
   "id": "36594146-40d9-4904-8ee4-0c3246347d91",
   "metadata": {},
   "outputs": [],
   "source": []
  }
 ],
 "metadata": {
  "kernelspec": {
   "display_name": "Python 3 (ipykernel)",
   "language": "python",
   "name": "python3"
  },
  "language_info": {
   "codemirror_mode": {
    "name": "ipython",
    "version": 3
   },
   "file_extension": ".py",
   "mimetype": "text/x-python",
   "name": "python",
   "nbconvert_exporter": "python",
   "pygments_lexer": "ipython3",
   "version": "3.9.7"
  }
 },
 "nbformat": 4,
 "nbformat_minor": 5
}
